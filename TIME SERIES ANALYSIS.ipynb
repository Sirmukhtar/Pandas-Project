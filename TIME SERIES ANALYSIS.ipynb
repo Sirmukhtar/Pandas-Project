{
 "cells": [
  {
   "cell_type": "code",
   "execution_count": 1,
   "metadata": {},
   "outputs": [],
   "source": [
    "import pandas as pd"
   ]
  },
  {
   "cell_type": "code",
   "execution_count": 2,
   "metadata": {},
   "outputs": [
    {
     "data": {
      "text/html": [
       "<div>\n",
       "<style scoped>\n",
       "    .dataframe tbody tr th:only-of-type {\n",
       "        vertical-align: middle;\n",
       "    }\n",
       "\n",
       "    .dataframe tbody tr th {\n",
       "        vertical-align: top;\n",
       "    }\n",
       "\n",
       "    .dataframe thead th {\n",
       "        text-align: right;\n",
       "    }\n",
       "</style>\n",
       "<table border=\"1\" class=\"dataframe\">\n",
       "  <thead>\n",
       "    <tr style=\"text-align: right;\">\n",
       "      <th></th>\n",
       "      <th>Date</th>\n",
       "      <th>Open</th>\n",
       "      <th>High</th>\n",
       "      <th>Low</th>\n",
       "      <th>Close</th>\n",
       "      <th>Adj Close</th>\n",
       "      <th>Volume</th>\n",
       "    </tr>\n",
       "  </thead>\n",
       "  <tbody>\n",
       "    <tr>\n",
       "      <th>0</th>\n",
       "      <td>2021-03-23</td>\n",
       "      <td>123.330002</td>\n",
       "      <td>124.239998</td>\n",
       "      <td>122.139999</td>\n",
       "      <td>122.540001</td>\n",
       "      <td>121.815987</td>\n",
       "      <td>95467100</td>\n",
       "    </tr>\n",
       "    <tr>\n",
       "      <th>1</th>\n",
       "      <td>2021-03-24</td>\n",
       "      <td>122.820000</td>\n",
       "      <td>122.900002</td>\n",
       "      <td>120.070000</td>\n",
       "      <td>120.089996</td>\n",
       "      <td>119.380455</td>\n",
       "      <td>88530500</td>\n",
       "    </tr>\n",
       "    <tr>\n",
       "      <th>2</th>\n",
       "      <td>2021-03-25</td>\n",
       "      <td>119.540001</td>\n",
       "      <td>121.660004</td>\n",
       "      <td>119.000000</td>\n",
       "      <td>120.589996</td>\n",
       "      <td>119.877502</td>\n",
       "      <td>98844700</td>\n",
       "    </tr>\n",
       "    <tr>\n",
       "      <th>3</th>\n",
       "      <td>2021-03-26</td>\n",
       "      <td>120.349998</td>\n",
       "      <td>121.480003</td>\n",
       "      <td>118.919998</td>\n",
       "      <td>121.209999</td>\n",
       "      <td>120.493835</td>\n",
       "      <td>94071200</td>\n",
       "    </tr>\n",
       "    <tr>\n",
       "      <th>4</th>\n",
       "      <td>2021-03-29</td>\n",
       "      <td>121.650002</td>\n",
       "      <td>122.580002</td>\n",
       "      <td>120.730003</td>\n",
       "      <td>121.389999</td>\n",
       "      <td>120.672775</td>\n",
       "      <td>80819200</td>\n",
       "    </tr>\n",
       "  </tbody>\n",
       "</table>\n",
       "</div>"
      ],
      "text/plain": [
       "        Date        Open        High         Low       Close   Adj Close  \\\n",
       "0 2021-03-23  123.330002  124.239998  122.139999  122.540001  121.815987   \n",
       "1 2021-03-24  122.820000  122.900002  120.070000  120.089996  119.380455   \n",
       "2 2021-03-25  119.540001  121.660004  119.000000  120.589996  119.877502   \n",
       "3 2021-03-26  120.349998  121.480003  118.919998  121.209999  120.493835   \n",
       "4 2021-03-29  121.650002  122.580002  120.730003  121.389999  120.672775   \n",
       "\n",
       "     Volume  \n",
       "0  95467100  \n",
       "1  88530500  \n",
       "2  98844700  \n",
       "3  94071200  \n",
       "4  80819200  "
      ]
     },
     "execution_count": 2,
     "metadata": {},
     "output_type": "execute_result"
    }
   ],
   "source": [
    "df= pd.read_csv(r'''C:\\Users\\USER\\Desktop\\dataset\\AAPL.csv''', parse_dates=[\"Date\"])#,index_col='Date' )\n",
    "df.head()"
   ]
  },
  {
   "cell_type": "code",
   "execution_count": 3,
   "metadata": {},
   "outputs": [],
   "source": [
    "df.set_index('Date',inplace =True)"
   ]
  },
  {
   "cell_type": "code",
   "execution_count": 4,
   "metadata": {},
   "outputs": [
    {
     "data": {
      "text/html": [
       "<div>\n",
       "<style scoped>\n",
       "    .dataframe tbody tr th:only-of-type {\n",
       "        vertical-align: middle;\n",
       "    }\n",
       "\n",
       "    .dataframe tbody tr th {\n",
       "        vertical-align: top;\n",
       "    }\n",
       "\n",
       "    .dataframe thead th {\n",
       "        text-align: right;\n",
       "    }\n",
       "</style>\n",
       "<table border=\"1\" class=\"dataframe\">\n",
       "  <thead>\n",
       "    <tr style=\"text-align: right;\">\n",
       "      <th></th>\n",
       "      <th>Open</th>\n",
       "      <th>High</th>\n",
       "      <th>Low</th>\n",
       "      <th>Close</th>\n",
       "      <th>Adj Close</th>\n",
       "      <th>Volume</th>\n",
       "    </tr>\n",
       "    <tr>\n",
       "      <th>Date</th>\n",
       "      <th></th>\n",
       "      <th></th>\n",
       "      <th></th>\n",
       "      <th></th>\n",
       "      <th></th>\n",
       "      <th></th>\n",
       "    </tr>\n",
       "  </thead>\n",
       "  <tbody>\n",
       "    <tr>\n",
       "      <th>2021-03-23</th>\n",
       "      <td>123.330002</td>\n",
       "      <td>124.239998</td>\n",
       "      <td>122.139999</td>\n",
       "      <td>122.540001</td>\n",
       "      <td>121.815987</td>\n",
       "      <td>95467100</td>\n",
       "    </tr>\n",
       "    <tr>\n",
       "      <th>2021-03-24</th>\n",
       "      <td>122.820000</td>\n",
       "      <td>122.900002</td>\n",
       "      <td>120.070000</td>\n",
       "      <td>120.089996</td>\n",
       "      <td>119.380455</td>\n",
       "      <td>88530500</td>\n",
       "    </tr>\n",
       "  </tbody>\n",
       "</table>\n",
       "</div>"
      ],
      "text/plain": [
       "                  Open        High         Low       Close   Adj Close  \\\n",
       "Date                                                                     \n",
       "2021-03-23  123.330002  124.239998  122.139999  122.540001  121.815987   \n",
       "2021-03-24  122.820000  122.900002  120.070000  120.089996  119.380455   \n",
       "\n",
       "              Volume  \n",
       "Date                  \n",
       "2021-03-23  95467100  \n",
       "2021-03-24  88530500  "
      ]
     },
     "execution_count": 4,
     "metadata": {},
     "output_type": "execute_result"
    }
   ],
   "source": [
    "df.head(2)"
   ]
  },
  {
   "cell_type": "code",
   "execution_count": 5,
   "metadata": {},
   "outputs": [
    {
     "data": {
      "text/plain": [
       "(254, 6)"
      ]
     },
     "execution_count": 5,
     "metadata": {},
     "output_type": "execute_result"
    }
   ],
   "source": [
    "df.shape"
   ]
  },
  {
   "cell_type": "code",
   "execution_count": 6,
   "metadata": {},
   "outputs": [
    {
     "data": {
      "text/plain": [
       "DatetimeIndex(['2021-03-23', '2021-03-24', '2021-03-25', '2021-03-26',\n",
       "               '2021-03-29', '2021-03-30', '2021-03-31', '2021-04-01',\n",
       "               '2021-04-05', '2021-04-06',\n",
       "               ...\n",
       "               '2022-03-10', '2022-03-11', '2022-03-14', '2022-03-15',\n",
       "               '2022-03-16', '2022-03-17', '2022-03-18', '2022-03-21',\n",
       "               '2022-03-22', '2022-03-22'],\n",
       "              dtype='datetime64[ns]', name='Date', length=254, freq=None)"
      ]
     },
     "execution_count": 6,
     "metadata": {},
     "output_type": "execute_result"
    }
   ],
   "source": [
    "df.index"
   ]
  },
  {
   "cell_type": "code",
   "execution_count": 7,
   "metadata": {},
   "outputs": [
    {
     "data": {
      "text/plain": [
       "121.12428499999999"
      ]
     },
     "execution_count": 7,
     "metadata": {},
     "output_type": "execute_result"
    }
   ],
   "source": [
    "df['2021-03'].Close.mean()"
   ]
  },
  {
   "cell_type": "code",
   "execution_count": 8,
   "metadata": {},
   "outputs": [
    {
     "data": {
      "text/plain": [
       "Open         1.216500e+02\n",
       "High         1.225800e+02\n",
       "Low          1.207300e+02\n",
       "Close        1.213900e+02\n",
       "Adj Close    1.206728e+02\n",
       "Volume       8.081920e+07\n",
       "Name: 2021-03-29 00:00:00, dtype: float64"
      ]
     },
     "execution_count": 8,
     "metadata": {},
     "output_type": "execute_result"
    }
   ],
   "source": [
    "df.loc['2021-03-29']"
   ]
  },
  {
   "cell_type": "code",
   "execution_count": 9,
   "metadata": {},
   "outputs": [
    {
     "data": {
      "text/html": [
       "<div>\n",
       "<style scoped>\n",
       "    .dataframe tbody tr th:only-of-type {\n",
       "        vertical-align: middle;\n",
       "    }\n",
       "\n",
       "    .dataframe tbody tr th {\n",
       "        vertical-align: top;\n",
       "    }\n",
       "\n",
       "    .dataframe thead th {\n",
       "        text-align: right;\n",
       "    }\n",
       "</style>\n",
       "<table border=\"1\" class=\"dataframe\">\n",
       "  <thead>\n",
       "    <tr style=\"text-align: right;\">\n",
       "      <th></th>\n",
       "      <th>Open</th>\n",
       "      <th>High</th>\n",
       "      <th>Low</th>\n",
       "      <th>Close</th>\n",
       "      <th>Adj Close</th>\n",
       "      <th>Volume</th>\n",
       "    </tr>\n",
       "    <tr>\n",
       "      <th>Date</th>\n",
       "      <th></th>\n",
       "      <th></th>\n",
       "      <th></th>\n",
       "      <th></th>\n",
       "      <th></th>\n",
       "      <th></th>\n",
       "    </tr>\n",
       "  </thead>\n",
       "  <tbody>\n",
       "    <tr>\n",
       "      <th>2021-03-23</th>\n",
       "      <td>123.330002</td>\n",
       "      <td>124.239998</td>\n",
       "      <td>122.139999</td>\n",
       "      <td>122.540001</td>\n",
       "      <td>121.815987</td>\n",
       "      <td>95467100</td>\n",
       "    </tr>\n",
       "    <tr>\n",
       "      <th>2021-03-24</th>\n",
       "      <td>122.820000</td>\n",
       "      <td>122.900002</td>\n",
       "      <td>120.070000</td>\n",
       "      <td>120.089996</td>\n",
       "      <td>119.380455</td>\n",
       "      <td>88530500</td>\n",
       "    </tr>\n",
       "    <tr>\n",
       "      <th>2021-03-25</th>\n",
       "      <td>119.540001</td>\n",
       "      <td>121.660004</td>\n",
       "      <td>119.000000</td>\n",
       "      <td>120.589996</td>\n",
       "      <td>119.877502</td>\n",
       "      <td>98844700</td>\n",
       "    </tr>\n",
       "    <tr>\n",
       "      <th>2021-03-26</th>\n",
       "      <td>120.349998</td>\n",
       "      <td>121.480003</td>\n",
       "      <td>118.919998</td>\n",
       "      <td>121.209999</td>\n",
       "      <td>120.493835</td>\n",
       "      <td>94071200</td>\n",
       "    </tr>\n",
       "    <tr>\n",
       "      <th>2021-03-29</th>\n",
       "      <td>121.650002</td>\n",
       "      <td>122.580002</td>\n",
       "      <td>120.730003</td>\n",
       "      <td>121.389999</td>\n",
       "      <td>120.672775</td>\n",
       "      <td>80819200</td>\n",
       "    </tr>\n",
       "  </tbody>\n",
       "</table>\n",
       "</div>"
      ],
      "text/plain": [
       "                  Open        High         Low       Close   Adj Close  \\\n",
       "Date                                                                     \n",
       "2021-03-23  123.330002  124.239998  122.139999  122.540001  121.815987   \n",
       "2021-03-24  122.820000  122.900002  120.070000  120.089996  119.380455   \n",
       "2021-03-25  119.540001  121.660004  119.000000  120.589996  119.877502   \n",
       "2021-03-26  120.349998  121.480003  118.919998  121.209999  120.493835   \n",
       "2021-03-29  121.650002  122.580002  120.730003  121.389999  120.672775   \n",
       "\n",
       "              Volume  \n",
       "Date                  \n",
       "2021-03-23  95467100  \n",
       "2021-03-24  88530500  \n",
       "2021-03-25  98844700  \n",
       "2021-03-26  94071200  \n",
       "2021-03-29  80819200  "
      ]
     },
     "execution_count": 9,
     "metadata": {},
     "output_type": "execute_result"
    }
   ],
   "source": [
    "df['2021-03-23':'2021-03-29']"
   ]
  },
  {
   "cell_type": "markdown",
   "metadata": {},
   "source": [
    "## RESAMPLING"
   ]
  },
  {
   "cell_type": "code",
   "execution_count": 10,
   "metadata": {},
   "outputs": [
    {
     "data": {
      "text/plain": [
       "Date\n",
       "2021-03-31    121.124285\n",
       "2021-04-30    131.812858\n",
       "2021-05-31    126.784000\n",
       "2021-06-30    129.958636\n",
       "2021-07-31    145.139524\n",
       "2021-08-31    148.177727\n",
       "2021-09-30    148.306190\n",
       "2021-10-31    145.563809\n",
       "2021-11-30    154.255716\n",
       "2021-12-31    173.552727\n",
       "2022-01-31    169.861500\n",
       "2022-02-28    169.830001\n",
       "2022-03-31    161.471764\n",
       "Freq: M, Name: Close, dtype: float64"
      ]
     },
     "execution_count": 10,
     "metadata": {},
     "output_type": "execute_result"
    }
   ],
   "source": [
    "df.Close.resample('M').mean()"
   ]
  },
  {
   "cell_type": "code",
   "execution_count": 11,
   "metadata": {},
   "outputs": [
    {
     "data": {
      "text/plain": [
       "<AxesSubplot:xlabel='Date'>"
      ]
     },
     "execution_count": 11,
     "metadata": {},
     "output_type": "execute_result"
    },
    {
     "data": {
      "image/png": "[encoded data removed]",
      "text/plain": [
       "<Figure size 432x288 with 1 Axes>"
      ]
     },
     "metadata": {
      "needs_background": "light"
     },
     "output_type": "display_data"
    }
   ],
   "source": [
    "%matplotlib inline\n",
    "df.Close.resample('M').mean().plot()"
   ]
  },
  {
   "cell_type": "code",
   "execution_count": 10,
   "metadata": {},
   "outputs": [
    {
     "data": {
      "text/plain": [
       "<AxesSubplot:xlabel='Date'>"
      ]
     },
     "execution_count": 10,
     "metadata": {},
     "output_type": "execute_result"
    },
    {
     "data": {
      "image/png": "[encoded data removed]",
      "text/plain": [
       "<Figure size 432x288 with 1 Axes>"
      ]
     },
     "metadata": {
      "needs_background": "light"
     },
     "output_type": "display_data"
    }
   ],
   "source": [
    "df.Close.resample('M').mean().plot()"
   ]
  },
  {
   "cell_type": "code",
   "execution_count": 11,
   "metadata": {},
   "outputs": [
    {
     "data": {
      "text/plain": [
       "<AxesSubplot:xlabel='Date'>"
      ]
     },
     "execution_count": 11,
     "metadata": {},
     "output_type": "execute_result"
    },
    {
     "data": {
      "image/png": "[encoded data removed]",
      "text/plain": [
       "<Figure size 432x288 with 1 Axes>"
      ]
     },
     "metadata": {
      "needs_background": "light"
     },
     "output_type": "display_data"
    }
   ],
   "source": [
    "df[['Close','Open']].resample('Q').mean().plot(kind='bar')"
   ]
  },
  {
   "cell_type": "markdown",
   "metadata": {},
   "source": [
    "## DATE RANGE"
   ]
  },
  {
   "cell_type": "code",
   "execution_count": 12,
   "metadata": {},
   "outputs": [
    {
     "data": {
      "text/html": [
       "<div>\n",
       "<style scoped>\n",
       "    .dataframe tbody tr th:only-of-type {\n",
       "        vertical-align: middle;\n",
       "    }\n",
       "\n",
       "    .dataframe tbody tr th {\n",
       "        vertical-align: top;\n",
       "    }\n",
       "\n",
       "    .dataframe thead th {\n",
       "        text-align: right;\n",
       "    }\n",
       "</style>\n",
       "<table border=\"1\" class=\"dataframe\">\n",
       "  <thead>\n",
       "    <tr style=\"text-align: right;\">\n",
       "      <th></th>\n",
       "      <th>Date</th>\n",
       "      <th>Close/Last</th>\n",
       "      <th>Volume</th>\n",
       "      <th>Open</th>\n",
       "      <th>High</th>\n",
       "      <th>Low</th>\n",
       "    </tr>\n",
       "  </thead>\n",
       "  <tbody>\n",
       "    <tr>\n",
       "      <th>0</th>\n",
       "      <td>3/22/2022</td>\n",
       "      <td>168.82</td>\n",
       "      <td>81532010</td>\n",
       "      <td>165.51</td>\n",
       "      <td>169.42</td>\n",
       "      <td>164.91</td>\n",
       "    </tr>\n",
       "    <tr>\n",
       "      <th>1</th>\n",
       "      <td>3/21/2022</td>\n",
       "      <td>165.38</td>\n",
       "      <td>95811350</td>\n",
       "      <td>163.51</td>\n",
       "      <td>166.35</td>\n",
       "      <td>163.02</td>\n",
       "    </tr>\n",
       "    <tr>\n",
       "      <th>2</th>\n",
       "      <td>3/18/2022</td>\n",
       "      <td>163.98</td>\n",
       "      <td>123511700</td>\n",
       "      <td>160.51</td>\n",
       "      <td>164.48</td>\n",
       "      <td>159.76</td>\n",
       "    </tr>\n",
       "    <tr>\n",
       "      <th>3</th>\n",
       "      <td>3/17/2022</td>\n",
       "      <td>160.62</td>\n",
       "      <td>75615380</td>\n",
       "      <td>158.61</td>\n",
       "      <td>161.00</td>\n",
       "      <td>157.63</td>\n",
       "    </tr>\n",
       "    <tr>\n",
       "      <th>4</th>\n",
       "      <td>3/16/2022</td>\n",
       "      <td>159.59</td>\n",
       "      <td>102300200</td>\n",
       "      <td>157.05</td>\n",
       "      <td>160.00</td>\n",
       "      <td>154.46</td>\n",
       "    </tr>\n",
       "  </tbody>\n",
       "</table>\n",
       "</div>"
      ],
      "text/plain": [
       "        Date  Close/Last     Volume    Open    High     Low\n",
       "0  3/22/2022      168.82   81532010  165.51  169.42  164.91\n",
       "1  3/21/2022      165.38   95811350  163.51  166.35  163.02\n",
       "2  3/18/2022      163.98  123511700  160.51  164.48  159.76\n",
       "3  3/17/2022      160.62   75615380  158.61  161.00  157.63\n",
       "4  3/16/2022      159.59  102300200  157.05  160.00  154.46"
      ]
     },
     "execution_count": 12,
     "metadata": {},
     "output_type": "execute_result"
    }
   ],
   "source": [
    "dff= pd.read_csv(r'''C:\\Users\\USER\\Desktop\\dataset\\HistoricalData_1648041037374.csv''')\n",
    "dff.head()"
   ]
  },
  {
   "cell_type": "code",
   "execution_count": 13,
   "metadata": {},
   "outputs": [],
   "source": [
    "dff.drop('Date',axis='columns',inplace=True)"
   ]
  },
  {
   "cell_type": "code",
   "execution_count": 14,
   "metadata": {},
   "outputs": [
    {
     "data": {
      "text/html": [
       "<div>\n",
       "<style scoped>\n",
       "    .dataframe tbody tr th:only-of-type {\n",
       "        vertical-align: middle;\n",
       "    }\n",
       "\n",
       "    .dataframe tbody tr th {\n",
       "        vertical-align: top;\n",
       "    }\n",
       "\n",
       "    .dataframe thead th {\n",
       "        text-align: right;\n",
       "    }\n",
       "</style>\n",
       "<table border=\"1\" class=\"dataframe\">\n",
       "  <thead>\n",
       "    <tr style=\"text-align: right;\">\n",
       "      <th></th>\n",
       "      <th>Close/Last</th>\n",
       "      <th>Volume</th>\n",
       "      <th>Open</th>\n",
       "      <th>High</th>\n",
       "      <th>Low</th>\n",
       "    </tr>\n",
       "  </thead>\n",
       "  <tbody>\n",
       "    <tr>\n",
       "      <th>0</th>\n",
       "      <td>168.82</td>\n",
       "      <td>81532010</td>\n",
       "      <td>165.51</td>\n",
       "      <td>169.42</td>\n",
       "      <td>164.91</td>\n",
       "    </tr>\n",
       "    <tr>\n",
       "      <th>1</th>\n",
       "      <td>165.38</td>\n",
       "      <td>95811350</td>\n",
       "      <td>163.51</td>\n",
       "      <td>166.35</td>\n",
       "      <td>163.02</td>\n",
       "    </tr>\n",
       "    <tr>\n",
       "      <th>2</th>\n",
       "      <td>163.98</td>\n",
       "      <td>123511700</td>\n",
       "      <td>160.51</td>\n",
       "      <td>164.48</td>\n",
       "      <td>159.76</td>\n",
       "    </tr>\n",
       "    <tr>\n",
       "      <th>3</th>\n",
       "      <td>160.62</td>\n",
       "      <td>75615380</td>\n",
       "      <td>158.61</td>\n",
       "      <td>161.00</td>\n",
       "      <td>157.63</td>\n",
       "    </tr>\n",
       "    <tr>\n",
       "      <th>4</th>\n",
       "      <td>159.59</td>\n",
       "      <td>102300200</td>\n",
       "      <td>157.05</td>\n",
       "      <td>160.00</td>\n",
       "      <td>154.46</td>\n",
       "    </tr>\n",
       "  </tbody>\n",
       "</table>\n",
       "</div>"
      ],
      "text/plain": [
       "   Close/Last     Volume    Open    High     Low\n",
       "0      168.82   81532010  165.51  169.42  164.91\n",
       "1      165.38   95811350  163.51  166.35  163.02\n",
       "2      163.98  123511700  160.51  164.48  159.76\n",
       "3      160.62   75615380  158.61  161.00  157.63\n",
       "4      159.59  102300200  157.05  160.00  154.46"
      ]
     },
     "execution_count": 14,
     "metadata": {},
     "output_type": "execute_result"
    }
   ],
   "source": [
    "dff.head()"
   ]
  },
  {
   "cell_type": "code",
   "execution_count": 15,
   "metadata": {},
   "outputs": [
    {
     "data": {
      "text/plain": [
       "DatetimeIndex(['2022-02-23', '2022-02-24', '2022-02-25', '2022-02-28',\n",
       "               '2022-03-01', '2022-03-02', '2022-03-03', '2022-03-04',\n",
       "               '2022-03-07', '2022-03-08', '2022-03-09', '2022-03-10',\n",
       "               '2022-03-11', '2022-03-14', '2022-03-15', '2022-03-16',\n",
       "               '2022-03-17', '2022-03-18', '2022-03-21', '2022-03-22'],\n",
       "              dtype='datetime64[ns]', freq='B')"
      ]
     },
     "execution_count": 15,
     "metadata": {},
     "output_type": "execute_result"
    }
   ],
   "source": [
    "drange= pd.date_range(start='02-23-2022', end='03-22-2022', freq='B')\n",
    "drange"
   ]
  },
  {
   "cell_type": "code",
   "execution_count": 16,
   "metadata": {},
   "outputs": [],
   "source": [
    "dff.set_index(drange,inplace=True)"
   ]
  },
  {
   "cell_type": "code",
   "execution_count": 17,
   "metadata": {},
   "outputs": [
    {
     "data": {
      "text/html": [
       "<div>\n",
       "<style scoped>\n",
       "    .dataframe tbody tr th:only-of-type {\n",
       "        vertical-align: middle;\n",
       "    }\n",
       "\n",
       "    .dataframe tbody tr th {\n",
       "        vertical-align: top;\n",
       "    }\n",
       "\n",
       "    .dataframe thead th {\n",
       "        text-align: right;\n",
       "    }\n",
       "</style>\n",
       "<table border=\"1\" class=\"dataframe\">\n",
       "  <thead>\n",
       "    <tr style=\"text-align: right;\">\n",
       "      <th></th>\n",
       "      <th>Close/Last</th>\n",
       "      <th>Volume</th>\n",
       "      <th>Open</th>\n",
       "      <th>High</th>\n",
       "      <th>Low</th>\n",
       "    </tr>\n",
       "  </thead>\n",
       "  <tbody>\n",
       "    <tr>\n",
       "      <th>2022-02-23</th>\n",
       "      <td>168.82</td>\n",
       "      <td>81532010</td>\n",
       "      <td>165.51</td>\n",
       "      <td>169.42</td>\n",
       "      <td>164.91</td>\n",
       "    </tr>\n",
       "    <tr>\n",
       "      <th>2022-02-24</th>\n",
       "      <td>165.38</td>\n",
       "      <td>95811350</td>\n",
       "      <td>163.51</td>\n",
       "      <td>166.35</td>\n",
       "      <td>163.02</td>\n",
       "    </tr>\n",
       "    <tr>\n",
       "      <th>2022-02-25</th>\n",
       "      <td>163.98</td>\n",
       "      <td>123511700</td>\n",
       "      <td>160.51</td>\n",
       "      <td>164.48</td>\n",
       "      <td>159.76</td>\n",
       "    </tr>\n",
       "    <tr>\n",
       "      <th>2022-02-28</th>\n",
       "      <td>160.62</td>\n",
       "      <td>75615380</td>\n",
       "      <td>158.61</td>\n",
       "      <td>161.00</td>\n",
       "      <td>157.63</td>\n",
       "    </tr>\n",
       "    <tr>\n",
       "      <th>2022-03-01</th>\n",
       "      <td>159.59</td>\n",
       "      <td>102300200</td>\n",
       "      <td>157.05</td>\n",
       "      <td>160.00</td>\n",
       "      <td>154.46</td>\n",
       "    </tr>\n",
       "  </tbody>\n",
       "</table>\n",
       "</div>"
      ],
      "text/plain": [
       "            Close/Last     Volume    Open    High     Low\n",
       "2022-02-23      168.82   81532010  165.51  169.42  164.91\n",
       "2022-02-24      165.38   95811350  163.51  166.35  163.02\n",
       "2022-02-25      163.98  123511700  160.51  164.48  159.76\n",
       "2022-02-28      160.62   75615380  158.61  161.00  157.63\n",
       "2022-03-01      159.59  102300200  157.05  160.00  154.46"
      ]
     },
     "execution_count": 17,
     "metadata": {},
     "output_type": "execute_result"
    }
   ],
   "source": [
    "dff.head()"
   ]
  },
  {
   "cell_type": "markdown",
   "metadata": {},
   "source": [
    "## as frequency function"
   ]
  },
  {
   "cell_type": "code",
   "execution_count": 18,
   "metadata": {},
   "outputs": [
    {
     "data": {
      "text/html": [
       "<div>\n",
       "<style scoped>\n",
       "    .dataframe tbody tr th:only-of-type {\n",
       "        vertical-align: middle;\n",
       "    }\n",
       "\n",
       "    .dataframe tbody tr th {\n",
       "        vertical-align: top;\n",
       "    }\n",
       "\n",
       "    .dataframe thead th {\n",
       "        text-align: right;\n",
       "    }\n",
       "</style>\n",
       "<table border=\"1\" class=\"dataframe\">\n",
       "  <thead>\n",
       "    <tr style=\"text-align: right;\">\n",
       "      <th></th>\n",
       "      <th>Close/Last</th>\n",
       "      <th>Volume</th>\n",
       "      <th>Open</th>\n",
       "      <th>High</th>\n",
       "      <th>Low</th>\n",
       "    </tr>\n",
       "  </thead>\n",
       "  <tbody>\n",
       "    <tr>\n",
       "      <th>2022-02-23</th>\n",
       "      <td>168.82</td>\n",
       "      <td>81532010</td>\n",
       "      <td>165.51</td>\n",
       "      <td>169.42</td>\n",
       "      <td>164.91</td>\n",
       "    </tr>\n",
       "    <tr>\n",
       "      <th>2022-02-24</th>\n",
       "      <td>165.38</td>\n",
       "      <td>95811350</td>\n",
       "      <td>163.51</td>\n",
       "      <td>166.35</td>\n",
       "      <td>163.02</td>\n",
       "    </tr>\n",
       "    <tr>\n",
       "      <th>2022-02-25</th>\n",
       "      <td>163.98</td>\n",
       "      <td>123511700</td>\n",
       "      <td>160.51</td>\n",
       "      <td>164.48</td>\n",
       "      <td>159.76</td>\n",
       "    </tr>\n",
       "    <tr>\n",
       "      <th>2022-02-26</th>\n",
       "      <td>163.98</td>\n",
       "      <td>123511700</td>\n",
       "      <td>160.51</td>\n",
       "      <td>164.48</td>\n",
       "      <td>159.76</td>\n",
       "    </tr>\n",
       "    <tr>\n",
       "      <th>2022-02-27</th>\n",
       "      <td>163.98</td>\n",
       "      <td>123511700</td>\n",
       "      <td>160.51</td>\n",
       "      <td>164.48</td>\n",
       "      <td>159.76</td>\n",
       "    </tr>\n",
       "  </tbody>\n",
       "</table>\n",
       "</div>"
      ],
      "text/plain": [
       "            Close/Last     Volume    Open    High     Low\n",
       "2022-02-23      168.82   81532010  165.51  169.42  164.91\n",
       "2022-02-24      165.38   95811350  163.51  166.35  163.02\n",
       "2022-02-25      163.98  123511700  160.51  164.48  159.76\n",
       "2022-02-26      163.98  123511700  160.51  164.48  159.76\n",
       "2022-02-27      163.98  123511700  160.51  164.48  159.76"
      ]
     },
     "execution_count": 18,
     "metadata": {},
     "output_type": "execute_result"
    }
   ],
   "source": [
    "dff.asfreq('D', method='pad').head()"
   ]
  },
  {
   "cell_type": "code",
   "execution_count": 19,
   "metadata": {},
   "outputs": [
    {
     "data": {
      "text/html": [
       "<div>\n",
       "<style scoped>\n",
       "    .dataframe tbody tr th:only-of-type {\n",
       "        vertical-align: middle;\n",
       "    }\n",
       "\n",
       "    .dataframe tbody tr th {\n",
       "        vertical-align: top;\n",
       "    }\n",
       "\n",
       "    .dataframe thead th {\n",
       "        text-align: right;\n",
       "    }\n",
       "</style>\n",
       "<table border=\"1\" class=\"dataframe\">\n",
       "  <thead>\n",
       "    <tr style=\"text-align: right;\">\n",
       "      <th></th>\n",
       "      <th>Close/Last</th>\n",
       "      <th>Volume</th>\n",
       "      <th>Open</th>\n",
       "      <th>High</th>\n",
       "      <th>Low</th>\n",
       "    </tr>\n",
       "  </thead>\n",
       "  <tbody>\n",
       "    <tr>\n",
       "      <th>2022-02-23 00:00:00</th>\n",
       "      <td>168.82</td>\n",
       "      <td>81532010</td>\n",
       "      <td>165.51</td>\n",
       "      <td>169.42</td>\n",
       "      <td>164.91</td>\n",
       "    </tr>\n",
       "    <tr>\n",
       "      <th>2022-02-23 01:00:00</th>\n",
       "      <td>168.82</td>\n",
       "      <td>81532010</td>\n",
       "      <td>165.51</td>\n",
       "      <td>169.42</td>\n",
       "      <td>164.91</td>\n",
       "    </tr>\n",
       "    <tr>\n",
       "      <th>2022-02-23 02:00:00</th>\n",
       "      <td>168.82</td>\n",
       "      <td>81532010</td>\n",
       "      <td>165.51</td>\n",
       "      <td>169.42</td>\n",
       "      <td>164.91</td>\n",
       "    </tr>\n",
       "    <tr>\n",
       "      <th>2022-02-23 03:00:00</th>\n",
       "      <td>168.82</td>\n",
       "      <td>81532010</td>\n",
       "      <td>165.51</td>\n",
       "      <td>169.42</td>\n",
       "      <td>164.91</td>\n",
       "    </tr>\n",
       "    <tr>\n",
       "      <th>2022-02-23 04:00:00</th>\n",
       "      <td>168.82</td>\n",
       "      <td>81532010</td>\n",
       "      <td>165.51</td>\n",
       "      <td>169.42</td>\n",
       "      <td>164.91</td>\n",
       "    </tr>\n",
       "  </tbody>\n",
       "</table>\n",
       "</div>"
      ],
      "text/plain": [
       "                     Close/Last    Volume    Open    High     Low\n",
       "2022-02-23 00:00:00      168.82  81532010  165.51  169.42  164.91\n",
       "2022-02-23 01:00:00      168.82  81532010  165.51  169.42  164.91\n",
       "2022-02-23 02:00:00      168.82  81532010  165.51  169.42  164.91\n",
       "2022-02-23 03:00:00      168.82  81532010  165.51  169.42  164.91\n",
       "2022-02-23 04:00:00      168.82  81532010  165.51  169.42  164.91"
      ]
     },
     "execution_count": 19,
     "metadata": {},
     "output_type": "execute_result"
    }
   ],
   "source": [
    " dff.asfreq('H', method='pad').head()"
   ]
  },
  {
   "cell_type": "code",
   "execution_count": 20,
   "metadata": {},
   "outputs": [
    {
     "data": {
      "text/plain": [
       "DatetimeIndex(['2021-01-04', '2021-01-05', '2021-01-06', '2021-01-07',\n",
       "               '2021-01-08', '2021-01-11', '2021-01-12', '2021-01-13',\n",
       "               '2021-01-14', '2021-01-15', '2021-01-18', '2021-01-19',\n",
       "               '2021-01-20', '2021-01-21', '2021-01-22', '2021-01-25',\n",
       "               '2021-01-26', '2021-01-27', '2021-01-28', '2021-01-29',\n",
       "               '2021-02-01', '2021-02-02', '2021-02-03', '2021-02-04',\n",
       "               '2021-02-05', '2021-02-08', '2021-02-09', '2021-02-10',\n",
       "               '2021-02-11', '2021-02-12', '2021-02-15', '2021-02-16',\n",
       "               '2021-02-17', '2021-02-18', '2021-02-19', '2021-02-22',\n",
       "               '2021-02-23', '2021-02-24', '2021-02-25', '2021-02-26',\n",
       "               '2021-03-01', '2021-03-02', '2021-03-03', '2021-03-04',\n",
       "               '2021-03-05', '2021-03-08', '2021-03-09', '2021-03-10',\n",
       "               '2021-03-11', '2021-03-12', '2021-03-15', '2021-03-16',\n",
       "               '2021-03-17', '2021-03-18', '2021-03-19', '2021-03-22',\n",
       "               '2021-03-23', '2021-03-24', '2021-03-25', '2021-03-26'],\n",
       "              dtype='datetime64[ns]', freq='B')"
      ]
     },
     "execution_count": 20,
     "metadata": {},
     "output_type": "execute_result"
    }
   ],
   "source": [
    "rnd= pd.date_range(start='1-2-2021',periods=60, freq='B')\n",
    "rnd"
   ]
  },
  {
   "cell_type": "code",
   "execution_count": 21,
   "metadata": {},
   "outputs": [
    {
     "data": {
      "text/html": [
       "<div>\n",
       "<style scoped>\n",
       "    .dataframe tbody tr th:only-of-type {\n",
       "        vertical-align: middle;\n",
       "    }\n",
       "\n",
       "    .dataframe tbody tr th {\n",
       "        vertical-align: top;\n",
       "    }\n",
       "\n",
       "    .dataframe thead th {\n",
       "        text-align: right;\n",
       "    }\n",
       "</style>\n",
       "<table border=\"1\" class=\"dataframe\">\n",
       "  <thead>\n",
       "    <tr style=\"text-align: right;\">\n",
       "      <th></th>\n",
       "      <th>Close/Last</th>\n",
       "      <th>Volume</th>\n",
       "      <th>Open</th>\n",
       "      <th>High</th>\n",
       "      <th>Low</th>\n",
       "    </tr>\n",
       "  </thead>\n",
       "  <tbody>\n",
       "    <tr>\n",
       "      <th>2022-02-23</th>\n",
       "      <td>168.82</td>\n",
       "      <td>81532010</td>\n",
       "      <td>165.51</td>\n",
       "      <td>169.42</td>\n",
       "      <td>164.91</td>\n",
       "    </tr>\n",
       "    <tr>\n",
       "      <th>2022-02-24</th>\n",
       "      <td>165.38</td>\n",
       "      <td>95811350</td>\n",
       "      <td>163.51</td>\n",
       "      <td>166.35</td>\n",
       "      <td>163.02</td>\n",
       "    </tr>\n",
       "    <tr>\n",
       "      <th>2022-02-25</th>\n",
       "      <td>163.98</td>\n",
       "      <td>123511700</td>\n",
       "      <td>160.51</td>\n",
       "      <td>164.48</td>\n",
       "      <td>159.76</td>\n",
       "    </tr>\n",
       "    <tr>\n",
       "      <th>2022-02-28</th>\n",
       "      <td>160.62</td>\n",
       "      <td>75615380</td>\n",
       "      <td>158.61</td>\n",
       "      <td>161.00</td>\n",
       "      <td>157.63</td>\n",
       "    </tr>\n",
       "    <tr>\n",
       "      <th>2022-03-01</th>\n",
       "      <td>159.59</td>\n",
       "      <td>102300200</td>\n",
       "      <td>157.05</td>\n",
       "      <td>160.00</td>\n",
       "      <td>154.46</td>\n",
       "    </tr>\n",
       "  </tbody>\n",
       "</table>\n",
       "</div>"
      ],
      "text/plain": [
       "            Close/Last     Volume    Open    High     Low\n",
       "2022-02-23      168.82   81532010  165.51  169.42  164.91\n",
       "2022-02-24      165.38   95811350  163.51  166.35  163.02\n",
       "2022-02-25      163.98  123511700  160.51  164.48  159.76\n",
       "2022-02-28      160.62   75615380  158.61  161.00  157.63\n",
       "2022-03-01      159.59  102300200  157.05  160.00  154.46"
      ]
     },
     "execution_count": 21,
     "metadata": {},
     "output_type": "execute_result"
    }
   ],
   "source": [
    "dff.head()"
   ]
  },
  {
   "cell_type": "code",
   "execution_count": 22,
   "metadata": {},
   "outputs": [],
   "source": [
    "%matplotlib inline\n",
    "dfff=dff.asfreq('B')"
   ]
  },
  {
   "cell_type": "code",
   "execution_count": 23,
   "metadata": {},
   "outputs": [
    {
     "data": {
      "text/plain": [
       "<AxesSubplot:>"
      ]
     },
     "execution_count": 23,
     "metadata": {},
     "output_type": "execute_result"
    },
    {
     "data": {
      "image/png": "[encoded data removed]",
      "text/plain": [
       "<Figure size 432x288 with 1 Axes>"
      ]
     },
     "metadata": {
      "needs_background": "light"
     },
     "output_type": "display_data"
    }
   ],
   "source": [
    "dfff.Open.resample('W').mean().plot()"
   ]
  },
  {
   "cell_type": "markdown",
   "metadata": {},
   "source": [
    "## creating a custom caledar in case of business days\n"
   ]
  },
  {
   "cell_type": "code",
   "execution_count": 24,
   "metadata": {},
   "outputs": [],
   "source": [
    "from pandas.tseries.holiday import USFederalHolidayCalendar\n",
    "from pandas.tseries.offsets import CustomBusinessDay"
   ]
  },
  {
   "cell_type": "code",
   "execution_count": 25,
   "metadata": {},
   "outputs": [],
   "source": [
    "usb= CustomBusinessDay(calendar=USFederalHolidayCalendar())"
   ]
  },
  {
   "cell_type": "code",
   "execution_count": 26,
   "metadata": {},
   "outputs": [
    {
     "data": {
      "text/html": [
       "<div>\n",
       "<style scoped>\n",
       "    .dataframe tbody tr th:only-of-type {\n",
       "        vertical-align: middle;\n",
       "    }\n",
       "\n",
       "    .dataframe tbody tr th {\n",
       "        vertical-align: top;\n",
       "    }\n",
       "\n",
       "    .dataframe thead th {\n",
       "        text-align: right;\n",
       "    }\n",
       "</style>\n",
       "<table border=\"1\" class=\"dataframe\">\n",
       "  <thead>\n",
       "    <tr style=\"text-align: right;\">\n",
       "      <th></th>\n",
       "      <th>Close/Last</th>\n",
       "      <th>Volume</th>\n",
       "      <th>Open</th>\n",
       "      <th>High</th>\n",
       "      <th>Low</th>\n",
       "    </tr>\n",
       "  </thead>\n",
       "  <tbody>\n",
       "    <tr>\n",
       "      <th>0</th>\n",
       "      <td>168.82</td>\n",
       "      <td>81532010</td>\n",
       "      <td>165.51</td>\n",
       "      <td>169.42</td>\n",
       "      <td>164.91</td>\n",
       "    </tr>\n",
       "    <tr>\n",
       "      <th>1</th>\n",
       "      <td>165.38</td>\n",
       "      <td>95811350</td>\n",
       "      <td>163.51</td>\n",
       "      <td>166.35</td>\n",
       "      <td>163.02</td>\n",
       "    </tr>\n",
       "    <tr>\n",
       "      <th>2</th>\n",
       "      <td>163.98</td>\n",
       "      <td>123511700</td>\n",
       "      <td>160.51</td>\n",
       "      <td>164.48</td>\n",
       "      <td>159.76</td>\n",
       "    </tr>\n",
       "    <tr>\n",
       "      <th>3</th>\n",
       "      <td>160.62</td>\n",
       "      <td>75615380</td>\n",
       "      <td>158.61</td>\n",
       "      <td>161.00</td>\n",
       "      <td>157.63</td>\n",
       "    </tr>\n",
       "    <tr>\n",
       "      <th>4</th>\n",
       "      <td>159.59</td>\n",
       "      <td>102300200</td>\n",
       "      <td>157.05</td>\n",
       "      <td>160.00</td>\n",
       "      <td>154.46</td>\n",
       "    </tr>\n",
       "  </tbody>\n",
       "</table>\n",
       "</div>"
      ],
      "text/plain": [
       "   Close/Last     Volume    Open    High     Low\n",
       "0      168.82   81532010  165.51  169.42  164.91\n",
       "1      165.38   95811350  163.51  166.35  163.02\n",
       "2      163.98  123511700  160.51  164.48  159.76\n",
       "3      160.62   75615380  158.61  161.00  157.63\n",
       "4      159.59  102300200  157.05  160.00  154.46"
      ]
     },
     "execution_count": 26,
     "metadata": {},
     "output_type": "execute_result"
    }
   ],
   "source": [
    "ddf= pd.read_csv(r'''C:\\Users\\USER\\Desktop\\dataset\\HistoricalData.csv''')\n",
    "ddf.head()"
   ]
  },
  {
   "cell_type": "code",
   "execution_count": 27,
   "metadata": {},
   "outputs": [
    {
     "data": {
      "text/plain": [
       "(20, 5)"
      ]
     },
     "execution_count": 27,
     "metadata": {},
     "output_type": "execute_result"
    }
   ],
   "source": [
    "ddf.shape"
   ]
  },
  {
   "cell_type": "code",
   "execution_count": 28,
   "metadata": {},
   "outputs": [],
   "source": [
    "ranges= pd.date_range(start='7-1-2022',periods=20, freq=usb)"
   ]
  },
  {
   "cell_type": "code",
   "execution_count": 29,
   "metadata": {},
   "outputs": [
    {
     "data": {
      "text/plain": [
       "DatetimeIndex(['2022-07-01', '2022-07-05', '2022-07-06', '2022-07-07',\n",
       "               '2022-07-08', '2022-07-11', '2022-07-12', '2022-07-13',\n",
       "               '2022-07-14', '2022-07-15', '2022-07-18', '2022-07-19',\n",
       "               '2022-07-20', '2022-07-21', '2022-07-22', '2022-07-25',\n",
       "               '2022-07-26', '2022-07-27', '2022-07-28', '2022-07-29'],\n",
       "              dtype='datetime64[ns]', freq='C')"
      ]
     },
     "execution_count": 29,
     "metadata": {},
     "output_type": "execute_result"
    }
   ],
   "source": [
    "ranges"
   ]
  },
  {
   "cell_type": "code",
   "execution_count": 30,
   "metadata": {},
   "outputs": [
    {
     "data": {
      "text/html": [
       "<div>\n",
       "<style scoped>\n",
       "    .dataframe tbody tr th:only-of-type {\n",
       "        vertical-align: middle;\n",
       "    }\n",
       "\n",
       "    .dataframe tbody tr th {\n",
       "        vertical-align: top;\n",
       "    }\n",
       "\n",
       "    .dataframe thead th {\n",
       "        text-align: right;\n",
       "    }\n",
       "</style>\n",
       "<table border=\"1\" class=\"dataframe\">\n",
       "  <thead>\n",
       "    <tr style=\"text-align: right;\">\n",
       "      <th></th>\n",
       "      <th>Close/Last</th>\n",
       "      <th>Volume</th>\n",
       "      <th>Open</th>\n",
       "      <th>High</th>\n",
       "      <th>Low</th>\n",
       "    </tr>\n",
       "  </thead>\n",
       "  <tbody>\n",
       "    <tr>\n",
       "      <th>2022-07-01</th>\n",
       "      <td>168.82</td>\n",
       "      <td>81532010</td>\n",
       "      <td>165.51</td>\n",
       "      <td>169.42</td>\n",
       "      <td>164.91</td>\n",
       "    </tr>\n",
       "    <tr>\n",
       "      <th>2022-07-05</th>\n",
       "      <td>165.38</td>\n",
       "      <td>95811350</td>\n",
       "      <td>163.51</td>\n",
       "      <td>166.35</td>\n",
       "      <td>163.02</td>\n",
       "    </tr>\n",
       "    <tr>\n",
       "      <th>2022-07-06</th>\n",
       "      <td>163.98</td>\n",
       "      <td>123511700</td>\n",
       "      <td>160.51</td>\n",
       "      <td>164.48</td>\n",
       "      <td>159.76</td>\n",
       "    </tr>\n",
       "    <tr>\n",
       "      <th>2022-07-07</th>\n",
       "      <td>160.62</td>\n",
       "      <td>75615380</td>\n",
       "      <td>158.61</td>\n",
       "      <td>161.00</td>\n",
       "      <td>157.63</td>\n",
       "    </tr>\n",
       "    <tr>\n",
       "      <th>2022-07-08</th>\n",
       "      <td>159.59</td>\n",
       "      <td>102300200</td>\n",
       "      <td>157.05</td>\n",
       "      <td>160.00</td>\n",
       "      <td>154.46</td>\n",
       "    </tr>\n",
       "  </tbody>\n",
       "</table>\n",
       "</div>"
      ],
      "text/plain": [
       "            Close/Last     Volume    Open    High     Low\n",
       "2022-07-01      168.82   81532010  165.51  169.42  164.91\n",
       "2022-07-05      165.38   95811350  163.51  166.35  163.02\n",
       "2022-07-06      163.98  123511700  160.51  164.48  159.76\n",
       "2022-07-07      160.62   75615380  158.61  161.00  157.63\n",
       "2022-07-08      159.59  102300200  157.05  160.00  154.46"
      ]
     },
     "execution_count": 30,
     "metadata": {},
     "output_type": "execute_result"
    }
   ],
   "source": [
    "ddf.set_index(ranges,inplace=True)\n",
    "ddf.head()"
   ]
  },
  {
   "cell_type": "markdown",
   "metadata": {},
   "source": [
    "## creating a custom calendar\n"
   ]
  },
  {
   "cell_type": "code",
   "execution_count": 31,
   "metadata": {},
   "outputs": [],
   "source": [
    "from pandas.tseries.holiday import AbstractHolidayCalendar, nearest_workday, Holiday\n",
    "\n",
    "class my_birtday_cakendar(AbstractHolidayCalendar):\n",
    "    rules=[Holiday('Mukhtars Bday', month=9, day= 23)]#, observance= nearest_workday)]"
   ]
  },
  {
   "cell_type": "code",
   "execution_count": 32,
   "metadata": {},
   "outputs": [],
   "source": [
    "mday= CustomBusinessDay(calendar=my_birtday_cakendar())"
   ]
  },
  {
   "cell_type": "code",
   "execution_count": 33,
   "metadata": {},
   "outputs": [
    {
     "data": {
      "text/plain": [
       "DatetimeIndex(['2022-09-01', '2022-09-02', '2022-09-05', '2022-09-06',\n",
       "               '2022-09-07', '2022-09-08', '2022-09-09', '2022-09-12',\n",
       "               '2022-09-13', '2022-09-14', '2022-09-15', '2022-09-16',\n",
       "               '2022-09-19', '2022-09-20', '2022-09-21', '2022-09-22',\n",
       "               '2022-09-26', '2022-09-27', '2022-09-28', '2022-09-29',\n",
       "               '2022-09-30'],\n",
       "              dtype='datetime64[ns]', freq='C')"
      ]
     },
     "execution_count": 33,
     "metadata": {},
     "output_type": "execute_result"
    }
   ],
   "source": [
    "pd.date_range(start='9-1-2022', end='9-30-2022', freq= mday)"
   ]
  },
  {
   "cell_type": "markdown",
   "metadata": {},
   "source": [
    "## create weedays and holidays"
   ]
  },
  {
   "cell_type": "code",
   "execution_count": 34,
   "metadata": {},
   "outputs": [
    {
     "data": {
      "text/plain": [
       "DatetimeIndex(['1998-09-01', '1998-09-02', '1998-09-03', '1998-09-04',\n",
       "               '1998-09-07', '1998-09-08', '1998-09-09', '1998-09-10',\n",
       "               '1998-09-11', '1998-09-14', '1998-09-15', '1998-09-16',\n",
       "               '1998-09-17', '1998-09-18', '1998-09-21', '1998-09-22',\n",
       "               '1998-09-23', '1998-09-25', '1998-09-28', '1998-09-29',\n",
       "               '1998-09-30', '1998-10-01', '1998-10-02', '1998-10-05',\n",
       "               '1998-10-06', '1998-10-07', '1998-10-08', '1998-10-09',\n",
       "               '1998-10-12', '1998-10-13'],\n",
       "              dtype='datetime64[ns]', freq='C')"
      ]
     },
     "execution_count": 34,
     "metadata": {},
     "output_type": "execute_result"
    }
   ],
   "source": [
    "weekd = CustomBusinessDay(weekmask= 'Mon Tue Wed Thu Fri',holidays=['1998-09-24'])\n",
    "pd.date_range(start= '9-1-1998', periods= 30, freq=weekd)"
   ]
  },
  {
   "cell_type": "markdown",
   "metadata": {},
   "source": [
    "## to_datetime function"
   ]
  },
  {
   "cell_type": "code",
   "execution_count": 35,
   "metadata": {},
   "outputs": [],
   "source": [
    "d = ['2-5-1998', '5-2-1998','1998/2/5','5/2/1998']"
   ]
  },
  {
   "cell_type": "code",
   "execution_count": 36,
   "metadata": {},
   "outputs": [
    {
     "data": {
      "text/plain": [
       "DatetimeIndex(['1998-02-05', '1998-05-02', '1998-02-05', '1998-05-02'], dtype='datetime64[ns]', freq=None)"
      ]
     },
     "execution_count": 36,
     "metadata": {},
     "output_type": "execute_result"
    }
   ],
   "source": [
    "pd.to_datetime(d)"
   ]
  },
  {
   "cell_type": "code",
   "execution_count": 37,
   "metadata": {},
   "outputs": [
    {
     "data": {
      "text/plain": [
       "Timestamp('1995-05-21 00:00:00')"
      ]
     },
     "execution_count": 37,
     "metadata": {},
     "output_type": "execute_result"
    }
   ],
   "source": [
    "pd.to_datetime('5-21-1995',dayfirst=True)"
   ]
  },
  {
   "cell_type": "markdown",
   "metadata": {},
   "source": [
    "## PERIODS"
   ]
  },
  {
   "cell_type": "code",
   "execution_count": 38,
   "metadata": {},
   "outputs": [],
   "source": [
    "#PERIODS IS ALL ABOUT CREATING YOUR OWN TIME RANGE\n",
    "y =pd.Period(1998)"
   ]
  },
  {
   "cell_type": "code",
   "execution_count": 39,
   "metadata": {},
   "outputs": [
    {
     "data": {
      "text/plain": [
       "Timestamp('1998-01-01 00:00:00')"
      ]
     },
     "execution_count": 39,
     "metadata": {},
     "output_type": "execute_result"
    }
   ],
   "source": [
    "y.start_time"
   ]
  },
  {
   "cell_type": "code",
   "execution_count": 40,
   "metadata": {},
   "outputs": [
    {
     "data": {
      "text/plain": [
       "Timestamp('1998-12-31 23:59:59.999999999')"
      ]
     },
     "execution_count": 40,
     "metadata": {},
     "output_type": "execute_result"
    }
   ],
   "source": [
    "y.end_time"
   ]
  },
  {
   "cell_type": "code",
   "execution_count": 41,
   "metadata": {},
   "outputs": [],
   "source": [
    "m= pd.Period('1998-8', freq='M')"
   ]
  },
  {
   "cell_type": "code",
   "execution_count": 42,
   "metadata": {},
   "outputs": [
    {
     "data": {
      "text/plain": [
       "Timestamp('1998-08-01 00:00:00')"
      ]
     },
     "execution_count": 42,
     "metadata": {},
     "output_type": "execute_result"
    }
   ],
   "source": [
    "m.start_time"
   ]
  },
  {
   "cell_type": "code",
   "execution_count": 43,
   "metadata": {},
   "outputs": [
    {
     "data": {
      "text/plain": [
       "Timestamp('1998-08-31 23:59:59.999999999')"
      ]
     },
     "execution_count": 43,
     "metadata": {},
     "output_type": "execute_result"
    }
   ],
   "source": [
    "m.end_time"
   ]
  },
  {
   "cell_type": "code",
   "execution_count": 44,
   "metadata": {},
   "outputs": [
    {
     "data": {
      "text/plain": [
       "Period('1999-01', 'M')"
      ]
     },
     "execution_count": 44,
     "metadata": {},
     "output_type": "execute_result"
    }
   ],
   "source": [
    "m+5"
   ]
  },
  {
   "cell_type": "code",
   "execution_count": 45,
   "metadata": {},
   "outputs": [],
   "source": [
    "d= pd.Period('2-4-1998',  freq='H')"
   ]
  },
  {
   "cell_type": "code",
   "execution_count": 46,
   "metadata": {},
   "outputs": [
    {
     "data": {
      "text/plain": [
       "Period('1998-02-04 00:00', 'H')"
      ]
     },
     "execution_count": 46,
     "metadata": {},
     "output_type": "execute_result"
    }
   ],
   "source": [
    "d"
   ]
  },
  {
   "cell_type": "code",
   "execution_count": 47,
   "metadata": {},
   "outputs": [
    {
     "data": {
      "text/plain": [
       "Timestamp('1998-02-04 00:00:00')"
      ]
     },
     "execution_count": 47,
     "metadata": {},
     "output_type": "execute_result"
    }
   ],
   "source": [
    "d.start_time"
   ]
  },
  {
   "cell_type": "code",
   "execution_count": 48,
   "metadata": {},
   "outputs": [
    {
     "data": {
      "text/plain": [
       "Timestamp('1998-02-04 00:59:59.999999999')"
      ]
     },
     "execution_count": 48,
     "metadata": {},
     "output_type": "execute_result"
    }
   ],
   "source": [
    "d.end_time"
   ]
  },
  {
   "cell_type": "code",
   "execution_count": 49,
   "metadata": {},
   "outputs": [],
   "source": [
    "q= pd.Period('1998Q1')"
   ]
  },
  {
   "cell_type": "code",
   "execution_count": 50,
   "metadata": {},
   "outputs": [
    {
     "data": {
      "text/plain": [
       "Timestamp('1998-01-01 00:00:00')"
      ]
     },
     "execution_count": 50,
     "metadata": {},
     "output_type": "execute_result"
    }
   ],
   "source": [
    "q.start_time"
   ]
  },
  {
   "cell_type": "code",
   "execution_count": 51,
   "metadata": {},
   "outputs": [
    {
     "data": {
      "text/plain": [
       "Timestamp('1998-03-31 23:59:59.999999999')"
      ]
     },
     "execution_count": 51,
     "metadata": {},
     "output_type": "execute_result"
    }
   ],
   "source": [
    "q.end_time"
   ]
  },
  {
   "cell_type": "code",
   "execution_count": 52,
   "metadata": {},
   "outputs": [],
   "source": [
    "qq= q+1"
   ]
  },
  {
   "cell_type": "code",
   "execution_count": 53,
   "metadata": {},
   "outputs": [
    {
     "data": {
      "text/plain": [
       "Timestamp('1998-04-01 00:00:00')"
      ]
     },
     "execution_count": 53,
     "metadata": {},
     "output_type": "execute_result"
    }
   ],
   "source": [
    "qq.start_time"
   ]
  },
  {
   "cell_type": "code",
   "execution_count": 54,
   "metadata": {},
   "outputs": [
    {
     "data": {
      "text/plain": [
       "Timestamp('1998-06-30 23:59:59.999999999')"
      ]
     },
     "execution_count": 54,
     "metadata": {},
     "output_type": "execute_result"
    }
   ],
   "source": [
    "qq.end_time"
   ]
  },
  {
   "cell_type": "code",
   "execution_count": 55,
   "metadata": {},
   "outputs": [
    {
     "data": {
      "text/plain": [
       "Period('1998Q1', 'Q-FEB')"
      ]
     },
     "execution_count": 55,
     "metadata": {},
     "output_type": "execute_result"
    }
   ],
   "source": [
    "feb= pd.Period('1998Q1', freq= 'Q-Feb')\n",
    "feb"
   ]
  },
  {
   "cell_type": "code",
   "execution_count": 56,
   "metadata": {},
   "outputs": [
    {
     "data": {
      "text/plain": [
       "Timestamp('1997-05-31 23:59:59.999999999')"
      ]
     },
     "execution_count": 56,
     "metadata": {},
     "output_type": "execute_result"
    }
   ],
   "source": [
    "feb.end_time"
   ]
  },
  {
   "cell_type": "code",
   "execution_count": 57,
   "metadata": {},
   "outputs": [
    {
     "data": {
      "text/plain": [
       "Timestamp('1997-03-01 00:00:00')"
      ]
     },
     "execution_count": 57,
     "metadata": {},
     "output_type": "execute_result"
    }
   ],
   "source": [
    "feb.start_time"
   ]
  },
  {
   "cell_type": "code",
   "execution_count": 58,
   "metadata": {
    "scrolled": true
   },
   "outputs": [
    {
     "data": {
      "text/html": [
       "<div>\n",
       "<style scoped>\n",
       "    .dataframe tbody tr th:only-of-type {\n",
       "        vertical-align: middle;\n",
       "    }\n",
       "\n",
       "    .dataframe tbody tr th {\n",
       "        vertical-align: top;\n",
       "    }\n",
       "\n",
       "    .dataframe thead th {\n",
       "        text-align: right;\n",
       "    }\n",
       "</style>\n",
       "<table border=\"1\" class=\"dataframe\">\n",
       "  <thead>\n",
       "    <tr style=\"text-align: right;\">\n",
       "      <th></th>\n",
       "      <th>Line item</th>\n",
       "      <th>2017Q1</th>\n",
       "      <th>2017Q2</th>\n",
       "      <th>2017Q3</th>\n",
       "      <th>2017Q4</th>\n",
       "    </tr>\n",
       "  </thead>\n",
       "  <tbody>\n",
       "    <tr>\n",
       "      <th>0</th>\n",
       "      <td>Revenue</td>\n",
       "      <td>115904</td>\n",
       "      <td>120854</td>\n",
       "      <td>118179</td>\n",
       "      <td>117542</td>\n",
       "    </tr>\n",
       "    <tr>\n",
       "      <th>1</th>\n",
       "      <td>Expenses</td>\n",
       "      <td>86544</td>\n",
       "      <td>89485</td>\n",
       "      <td>87484</td>\n",
       "      <td>87688</td>\n",
       "    </tr>\n",
       "    <tr>\n",
       "      <th>2</th>\n",
       "      <td>Profit</td>\n",
       "      <td>29360</td>\n",
       "      <td>31369</td>\n",
       "      <td>30695</td>\n",
       "      <td>29854</td>\n",
       "    </tr>\n",
       "  </tbody>\n",
       "</table>\n",
       "</div>"
      ],
      "text/plain": [
       "  Line item  2017Q1  2017Q2  2017Q3  2017Q4\n",
       "0   Revenue  115904  120854  118179  117542\n",
       "1  Expenses   86544   89485   87484   87688\n",
       "2    Profit   29360   31369   30695   29854"
      ]
     },
     "execution_count": 58,
     "metadata": {},
     "output_type": "execute_result"
    }
   ],
   "source": [
    "df= pd.read_excel(r'''C:\\Users\\USER\\AppData\\Roaming\\Microsoft\\Windows\\Network Shortcuts\\walmart.xlsx''')\n",
    "df"
   ]
  },
  {
   "cell_type": "code",
   "execution_count": 59,
   "metadata": {},
   "outputs": [
    {
     "data": {
      "text/html": [
       "<div>\n",
       "<style scoped>\n",
       "    .dataframe tbody tr th:only-of-type {\n",
       "        vertical-align: middle;\n",
       "    }\n",
       "\n",
       "    .dataframe tbody tr th {\n",
       "        vertical-align: top;\n",
       "    }\n",
       "\n",
       "    .dataframe thead th {\n",
       "        text-align: right;\n",
       "    }\n",
       "</style>\n",
       "<table border=\"1\" class=\"dataframe\">\n",
       "  <thead>\n",
       "    <tr style=\"text-align: right;\">\n",
       "      <th></th>\n",
       "      <th>2017Q1</th>\n",
       "      <th>2017Q2</th>\n",
       "      <th>2017Q3</th>\n",
       "      <th>2017Q4</th>\n",
       "    </tr>\n",
       "    <tr>\n",
       "      <th>Line item</th>\n",
       "      <th></th>\n",
       "      <th></th>\n",
       "      <th></th>\n",
       "      <th></th>\n",
       "    </tr>\n",
       "  </thead>\n",
       "  <tbody>\n",
       "    <tr>\n",
       "      <th>Revenue</th>\n",
       "      <td>115904</td>\n",
       "      <td>120854</td>\n",
       "      <td>118179</td>\n",
       "      <td>117542</td>\n",
       "    </tr>\n",
       "    <tr>\n",
       "      <th>Expenses</th>\n",
       "      <td>86544</td>\n",
       "      <td>89485</td>\n",
       "      <td>87484</td>\n",
       "      <td>87688</td>\n",
       "    </tr>\n",
       "    <tr>\n",
       "      <th>Profit</th>\n",
       "      <td>29360</td>\n",
       "      <td>31369</td>\n",
       "      <td>30695</td>\n",
       "      <td>29854</td>\n",
       "    </tr>\n",
       "  </tbody>\n",
       "</table>\n",
       "</div>"
      ],
      "text/plain": [
       "           2017Q1  2017Q2  2017Q3  2017Q4\n",
       "Line item                                \n",
       "Revenue    115904  120854  118179  117542\n",
       "Expenses    86544   89485   87484   87688\n",
       "Profit      29360   31369   30695   29854"
      ]
     },
     "execution_count": 59,
     "metadata": {},
     "output_type": "execute_result"
    }
   ],
   "source": [
    "df.set_index('Line item', inplace = True)\n",
    "df"
   ]
  },
  {
   "cell_type": "code",
   "execution_count": 60,
   "metadata": {},
   "outputs": [
    {
     "data": {
      "text/html": [
       "<div>\n",
       "<style scoped>\n",
       "    .dataframe tbody tr th:only-of-type {\n",
       "        vertical-align: middle;\n",
       "    }\n",
       "\n",
       "    .dataframe tbody tr th {\n",
       "        vertical-align: top;\n",
       "    }\n",
       "\n",
       "    .dataframe thead th {\n",
       "        text-align: right;\n",
       "    }\n",
       "</style>\n",
       "<table border=\"1\" class=\"dataframe\">\n",
       "  <thead>\n",
       "    <tr style=\"text-align: right;\">\n",
       "      <th>Line item</th>\n",
       "      <th>Revenue</th>\n",
       "      <th>Expenses</th>\n",
       "      <th>Profit</th>\n",
       "    </tr>\n",
       "  </thead>\n",
       "  <tbody>\n",
       "    <tr>\n",
       "      <th>2017Q1</th>\n",
       "      <td>115904</td>\n",
       "      <td>86544</td>\n",
       "      <td>29360</td>\n",
       "    </tr>\n",
       "    <tr>\n",
       "      <th>2017Q2</th>\n",
       "      <td>120854</td>\n",
       "      <td>89485</td>\n",
       "      <td>31369</td>\n",
       "    </tr>\n",
       "    <tr>\n",
       "      <th>2017Q3</th>\n",
       "      <td>118179</td>\n",
       "      <td>87484</td>\n",
       "      <td>30695</td>\n",
       "    </tr>\n",
       "    <tr>\n",
       "      <th>2017Q4</th>\n",
       "      <td>117542</td>\n",
       "      <td>87688</td>\n",
       "      <td>29854</td>\n",
       "    </tr>\n",
       "  </tbody>\n",
       "</table>\n",
       "</div>"
      ],
      "text/plain": [
       "Line item  Revenue  Expenses  Profit\n",
       "2017Q1      115904     86544   29360\n",
       "2017Q2      120854     89485   31369\n",
       "2017Q3      118179     87484   30695\n",
       "2017Q4      117542     87688   29854"
      ]
     },
     "execution_count": 60,
     "metadata": {},
     "output_type": "execute_result"
    }
   ],
   "source": [
    "dff=df.transpose()\n",
    "dff"
   ]
  },
  {
   "cell_type": "code",
   "execution_count": 61,
   "metadata": {},
   "outputs": [
    {
     "data": {
      "text/plain": [
       "Index(['2017Q1', '2017Q2', '2017Q3', '2017Q4'], dtype='object')"
      ]
     },
     "execution_count": 61,
     "metadata": {},
     "output_type": "execute_result"
    }
   ],
   "source": [
    "dff.index"
   ]
  },
  {
   "cell_type": "code",
   "execution_count": 62,
   "metadata": {},
   "outputs": [],
   "source": [
    "dff.index=pd.PeriodIndex(dff.index, freq='Q-JAN')"
   ]
  },
  {
   "cell_type": "code",
   "execution_count": 63,
   "metadata": {},
   "outputs": [
    {
     "data": {
      "text/plain": [
       "PeriodIndex(['2017Q1', '2017Q2', '2017Q3', '2017Q4'], dtype='period[Q-JAN]')"
      ]
     },
     "execution_count": 63,
     "metadata": {},
     "output_type": "execute_result"
    }
   ],
   "source": [
    "dff.index"
   ]
  },
  {
   "cell_type": "code",
   "execution_count": 64,
   "metadata": {},
   "outputs": [],
   "source": [
    "dff['start time']= dff.index.map(lambda x: x.start_time)"
   ]
  },
  {
   "cell_type": "code",
   "execution_count": 65,
   "metadata": {},
   "outputs": [
    {
     "data": {
      "text/html": [
       "<div>\n",
       "<style scoped>\n",
       "    .dataframe tbody tr th:only-of-type {\n",
       "        vertical-align: middle;\n",
       "    }\n",
       "\n",
       "    .dataframe tbody tr th {\n",
       "        vertical-align: top;\n",
       "    }\n",
       "\n",
       "    .dataframe thead th {\n",
       "        text-align: right;\n",
       "    }\n",
       "</style>\n",
       "<table border=\"1\" class=\"dataframe\">\n",
       "  <thead>\n",
       "    <tr style=\"text-align: right;\">\n",
       "      <th>Line item</th>\n",
       "      <th>Revenue</th>\n",
       "      <th>Expenses</th>\n",
       "      <th>Profit</th>\n",
       "      <th>start time</th>\n",
       "    </tr>\n",
       "  </thead>\n",
       "  <tbody>\n",
       "    <tr>\n",
       "      <th>2017Q1</th>\n",
       "      <td>115904</td>\n",
       "      <td>86544</td>\n",
       "      <td>29360</td>\n",
       "      <td>2016-02-01</td>\n",
       "    </tr>\n",
       "    <tr>\n",
       "      <th>2017Q2</th>\n",
       "      <td>120854</td>\n",
       "      <td>89485</td>\n",
       "      <td>31369</td>\n",
       "      <td>2016-05-01</td>\n",
       "    </tr>\n",
       "    <tr>\n",
       "      <th>2017Q3</th>\n",
       "      <td>118179</td>\n",
       "      <td>87484</td>\n",
       "      <td>30695</td>\n",
       "      <td>2016-08-01</td>\n",
       "    </tr>\n",
       "    <tr>\n",
       "      <th>2017Q4</th>\n",
       "      <td>117542</td>\n",
       "      <td>87688</td>\n",
       "      <td>29854</td>\n",
       "      <td>2016-11-01</td>\n",
       "    </tr>\n",
       "  </tbody>\n",
       "</table>\n",
       "</div>"
      ],
      "text/plain": [
       "Line item  Revenue  Expenses  Profit start time\n",
       "2017Q1      115904     86544   29360 2016-02-01\n",
       "2017Q2      120854     89485   31369 2016-05-01\n",
       "2017Q3      118179     87484   30695 2016-08-01\n",
       "2017Q4      117542     87688   29854 2016-11-01"
      ]
     },
     "execution_count": 65,
     "metadata": {},
     "output_type": "execute_result"
    }
   ],
   "source": [
    "dff"
   ]
  },
  {
   "cell_type": "code",
   "execution_count": 66,
   "metadata": {},
   "outputs": [],
   "source": [
    "dff['end time']= dff.index.map(lambda x: x.end_time)"
   ]
  },
  {
   "cell_type": "code",
   "execution_count": 67,
   "metadata": {},
   "outputs": [
    {
     "data": {
      "text/html": [
       "<div>\n",
       "<style scoped>\n",
       "    .dataframe tbody tr th:only-of-type {\n",
       "        vertical-align: middle;\n",
       "    }\n",
       "\n",
       "    .dataframe tbody tr th {\n",
       "        vertical-align: top;\n",
       "    }\n",
       "\n",
       "    .dataframe thead th {\n",
       "        text-align: right;\n",
       "    }\n",
       "</style>\n",
       "<table border=\"1\" class=\"dataframe\">\n",
       "  <thead>\n",
       "    <tr style=\"text-align: right;\">\n",
       "      <th>Line item</th>\n",
       "      <th>Revenue</th>\n",
       "      <th>Expenses</th>\n",
       "      <th>Profit</th>\n",
       "      <th>start time</th>\n",
       "      <th>end time</th>\n",
       "    </tr>\n",
       "  </thead>\n",
       "  <tbody>\n",
       "    <tr>\n",
       "      <th>2017Q1</th>\n",
       "      <td>115904</td>\n",
       "      <td>86544</td>\n",
       "      <td>29360</td>\n",
       "      <td>2016-02-01</td>\n",
       "      <td>2016-04-30 23:59:59.999999999</td>\n",
       "    </tr>\n",
       "    <tr>\n",
       "      <th>2017Q2</th>\n",
       "      <td>120854</td>\n",
       "      <td>89485</td>\n",
       "      <td>31369</td>\n",
       "      <td>2016-05-01</td>\n",
       "      <td>2016-07-31 23:59:59.999999999</td>\n",
       "    </tr>\n",
       "    <tr>\n",
       "      <th>2017Q3</th>\n",
       "      <td>118179</td>\n",
       "      <td>87484</td>\n",
       "      <td>30695</td>\n",
       "      <td>2016-08-01</td>\n",
       "      <td>2016-10-31 23:59:59.999999999</td>\n",
       "    </tr>\n",
       "    <tr>\n",
       "      <th>2017Q4</th>\n",
       "      <td>117542</td>\n",
       "      <td>87688</td>\n",
       "      <td>29854</td>\n",
       "      <td>2016-11-01</td>\n",
       "      <td>2017-01-31 23:59:59.999999999</td>\n",
       "    </tr>\n",
       "  </tbody>\n",
       "</table>\n",
       "</div>"
      ],
      "text/plain": [
       "Line item  Revenue  Expenses  Profit start time                      end time\n",
       "2017Q1      115904     86544   29360 2016-02-01 2016-04-30 23:59:59.999999999\n",
       "2017Q2      120854     89485   31369 2016-05-01 2016-07-31 23:59:59.999999999\n",
       "2017Q3      118179     87484   30695 2016-08-01 2016-10-31 23:59:59.999999999\n",
       "2017Q4      117542     87688   29854 2016-11-01 2017-01-31 23:59:59.999999999"
      ]
     },
     "execution_count": 67,
     "metadata": {},
     "output_type": "execute_result"
    }
   ],
   "source": [
    "dff"
   ]
  },
  {
   "cell_type": "markdown",
   "metadata": {},
   "source": [
    "## time zone"
   ]
  },
  {
   "cell_type": "markdown",
   "metadata": {},
   "source": [
    "there are two types of time zone in python in general.\n",
    " * naive time zone\n",
    " * time zone aware date time"
   ]
  },
  {
   "cell_type": "code",
   "execution_count": 68,
   "metadata": {},
   "outputs": [
    {
     "data": {
      "text/plain": [
       "['Africa/Abidjan', 'Africa/Accra', 'Africa/Addis_Ababa', 'Africa/Algiers', 'Africa/Asmara', 'Africa/Asmera', 'Africa/Bamako', 'Africa/Bangui', 'Africa/Banjul', 'Africa/Bissau', 'Africa/Blantyre', 'Africa/Brazzaville', 'Africa/Bujumbura', 'Africa/Cairo', 'Africa/Casablanca', 'Africa/Ceuta', 'Africa/Conakry', 'Africa/Dakar', 'Africa/Dar_es_Salaam', 'Africa/Djibouti', 'Africa/Douala', 'Africa/El_Aaiun', 'Africa/Freetown', 'Africa/Gaborone', 'Africa/Harare', 'Africa/Johannesburg', 'Africa/Juba', 'Africa/Kampala', 'Africa/Khartoum', 'Africa/Kigali', 'Africa/Kinshasa', 'Africa/Lagos', 'Africa/Libreville', 'Africa/Lome', 'Africa/Luanda', 'Africa/Lubumbashi', 'Africa/Lusaka', 'Africa/Malabo', 'Africa/Maputo', 'Africa/Maseru', 'Africa/Mbabane', 'Africa/Mogadishu', 'Africa/Monrovia', 'Africa/Nairobi', 'Africa/Ndjamena', 'Africa/Niamey', 'Africa/Nouakchott', 'Africa/Ouagadougou', 'Africa/Porto-Novo', 'Africa/Sao_Tome', 'Africa/Timbuktu', 'Africa/Tripoli', 'Africa/Tunis', 'Africa/Windhoek', 'America/Adak', 'America/Anchorage', 'America/Anguilla', 'America/Antigua', 'America/Araguaina', 'America/Argentina/Buenos_Aires', 'America/Argentina/Catamarca', 'America/Argentina/ComodRivadavia', 'America/Argentina/Cordoba', 'America/Argentina/Jujuy', 'America/Argentina/La_Rioja', 'America/Argentina/Mendoza', 'America/Argentina/Rio_Gallegos', 'America/Argentina/Salta', 'America/Argentina/San_Juan', 'America/Argentina/San_Luis', 'America/Argentina/Tucuman', 'America/Argentina/Ushuaia', 'America/Aruba', 'America/Asuncion', 'America/Atikokan', 'America/Atka', 'America/Bahia', 'America/Bahia_Banderas', 'America/Barbados', 'America/Belem', 'America/Belize', 'America/Blanc-Sablon', 'America/Boa_Vista', 'America/Bogota', 'America/Boise', 'America/Buenos_Aires', 'America/Cambridge_Bay', 'America/Campo_Grande', 'America/Cancun', 'America/Caracas', 'America/Catamarca', 'America/Cayenne', 'America/Cayman', 'America/Chicago', 'America/Chihuahua', 'America/Coral_Harbour', 'America/Cordoba', 'America/Costa_Rica', 'America/Creston', 'America/Cuiaba', 'America/Curacao', 'America/Danmarkshavn', 'America/Dawson', 'America/Dawson_Creek', 'America/Denver', 'America/Detroit', 'America/Dominica', 'America/Edmonton', 'America/Eirunepe', 'America/El_Salvador', 'America/Ensenada', 'America/Fort_Nelson', 'America/Fort_Wayne', 'America/Fortaleza', 'America/Glace_Bay', 'America/Godthab', 'America/Goose_Bay', 'America/Grand_Turk', 'America/Grenada', 'America/Guadeloupe', 'America/Guatemala', 'America/Guayaquil', 'America/Guyana', 'America/Halifax', 'America/Havana', 'America/Hermosillo', 'America/Indiana/Indianapolis', 'America/Indiana/Knox', 'America/Indiana/Marengo', 'America/Indiana/Petersburg', 'America/Indiana/Tell_City', 'America/Indiana/Vevay', 'America/Indiana/Vincennes', 'America/Indiana/Winamac', 'America/Indianapolis', 'America/Inuvik', 'America/Iqaluit', 'America/Jamaica', 'America/Jujuy', 'America/Juneau', 'America/Kentucky/Louisville', 'America/Kentucky/Monticello', 'America/Knox_IN', 'America/Kralendijk', 'America/La_Paz', 'America/Lima', 'America/Los_Angeles', 'America/Louisville', 'America/Lower_Princes', 'America/Maceio', 'America/Managua', 'America/Manaus', 'America/Marigot', 'America/Martinique', 'America/Matamoros', 'America/Mazatlan', 'America/Mendoza', 'America/Menominee', 'America/Merida', 'America/Metlakatla', 'America/Mexico_City', 'America/Miquelon', 'America/Moncton', 'America/Monterrey', 'America/Montevideo', 'America/Montreal', 'America/Montserrat', 'America/Nassau', 'America/New_York', 'America/Nipigon', 'America/Nome', 'America/Noronha', 'America/North_Dakota/Beulah', 'America/North_Dakota/Center', 'America/North_Dakota/New_Salem', 'America/Nuuk', 'America/Ojinaga', 'America/Panama', 'America/Pangnirtung', 'America/Paramaribo', 'America/Phoenix', 'America/Port-au-Prince', 'America/Port_of_Spain', 'America/Porto_Acre', 'America/Porto_Velho', 'America/Puerto_Rico', 'America/Punta_Arenas', 'America/Rainy_River', 'America/Rankin_Inlet', 'America/Recife', 'America/Regina', 'America/Resolute', 'America/Rio_Branco', 'America/Rosario', 'America/Santa_Isabel', 'America/Santarem', 'America/Santiago', 'America/Santo_Domingo', 'America/Sao_Paulo', 'America/Scoresbysund', 'America/Shiprock', 'America/Sitka', 'America/St_Barthelemy', 'America/St_Johns', 'America/St_Kitts', 'America/St_Lucia', 'America/St_Thomas', 'America/St_Vincent', 'America/Swift_Current', 'America/Tegucigalpa', 'America/Thule', 'America/Thunder_Bay', 'America/Tijuana', 'America/Toronto', 'America/Tortola', 'America/Vancouver', 'America/Virgin', 'America/Whitehorse', 'America/Winnipeg', 'America/Yakutat', 'America/Yellowknife', 'Antarctica/Casey', 'Antarctica/Davis', 'Antarctica/DumontDUrville', 'Antarctica/Macquarie', 'Antarctica/Mawson', 'Antarctica/McMurdo', 'Antarctica/Palmer', 'Antarctica/Rothera', 'Antarctica/South_Pole', 'Antarctica/Syowa', 'Antarctica/Troll', 'Antarctica/Vostok', 'Arctic/Longyearbyen', 'Asia/Aden', 'Asia/Almaty', 'Asia/Amman', 'Asia/Anadyr', 'Asia/Aqtau', 'Asia/Aqtobe', 'Asia/Ashgabat', 'Asia/Ashkhabad', 'Asia/Atyrau', 'Asia/Baghdad', 'Asia/Bahrain', 'Asia/Baku', 'Asia/Bangkok', 'Asia/Barnaul', 'Asia/Beirut', 'Asia/Bishkek', 'Asia/Brunei', 'Asia/Calcutta', 'Asia/Chita', 'Asia/Choibalsan', 'Asia/Chongqing', 'Asia/Chungking', 'Asia/Colombo', 'Asia/Dacca', 'Asia/Damascus', 'Asia/Dhaka', 'Asia/Dili', 'Asia/Dubai', 'Asia/Dushanbe', 'Asia/Famagusta', 'Asia/Gaza', 'Asia/Harbin', 'Asia/Hebron', 'Asia/Ho_Chi_Minh', 'Asia/Hong_Kong', 'Asia/Hovd', 'Asia/Irkutsk', 'Asia/Istanbul', 'Asia/Jakarta', 'Asia/Jayapura', 'Asia/Jerusalem', 'Asia/Kabul', 'Asia/Kamchatka', 'Asia/Karachi', 'Asia/Kashgar', 'Asia/Kathmandu', 'Asia/Katmandu', 'Asia/Khandyga', 'Asia/Kolkata', 'Asia/Krasnoyarsk', 'Asia/Kuala_Lumpur', 'Asia/Kuching', 'Asia/Kuwait', 'Asia/Macao', 'Asia/Macau', 'Asia/Magadan', 'Asia/Makassar', 'Asia/Manila', 'Asia/Muscat', 'Asia/Nicosia', 'Asia/Novokuznetsk', 'Asia/Novosibirsk', 'Asia/Omsk', 'Asia/Oral', 'Asia/Phnom_Penh', 'Asia/Pontianak', 'Asia/Pyongyang', 'Asia/Qatar', 'Asia/Qostanay', 'Asia/Qyzylorda', 'Asia/Rangoon', 'Asia/Riyadh', 'Asia/Saigon', 'Asia/Sakhalin', 'Asia/Samarkand', 'Asia/Seoul', 'Asia/Shanghai', 'Asia/Singapore', 'Asia/Srednekolymsk', 'Asia/Taipei', 'Asia/Tashkent', 'Asia/Tbilisi', 'Asia/Tehran', 'Asia/Tel_Aviv', 'Asia/Thimbu', 'Asia/Thimphu', 'Asia/Tokyo', 'Asia/Tomsk', 'Asia/Ujung_Pandang', 'Asia/Ulaanbaatar', 'Asia/Ulan_Bator', 'Asia/Urumqi', 'Asia/Ust-Nera', 'Asia/Vientiane', 'Asia/Vladivostok', 'Asia/Yakutsk', 'Asia/Yangon', 'Asia/Yekaterinburg', 'Asia/Yerevan', 'Atlantic/Azores', 'Atlantic/Bermuda', 'Atlantic/Canary', 'Atlantic/Cape_Verde', 'Atlantic/Faeroe', 'Atlantic/Faroe', 'Atlantic/Jan_Mayen', 'Atlantic/Madeira', 'Atlantic/Reykjavik', 'Atlantic/South_Georgia', 'Atlantic/St_Helena', 'Atlantic/Stanley', 'Australia/ACT', 'Australia/Adelaide', 'Australia/Brisbane', 'Australia/Broken_Hill', 'Australia/Canberra', 'Australia/Currie', 'Australia/Darwin', 'Australia/Eucla', 'Australia/Hobart', 'Australia/LHI', 'Australia/Lindeman', 'Australia/Lord_Howe', 'Australia/Melbourne', 'Australia/NSW', 'Australia/North', 'Australia/Perth', 'Australia/Queensland', 'Australia/South', 'Australia/Sydney', 'Australia/Tasmania', 'Australia/Victoria', 'Australia/West', 'Australia/Yancowinna', 'Brazil/Acre', 'Brazil/DeNoronha', 'Brazil/East', 'Brazil/West', 'CET', 'CST6CDT', 'Canada/Atlantic', 'Canada/Central', 'Canada/Eastern', 'Canada/Mountain', 'Canada/Newfoundland', 'Canada/Pacific', 'Canada/Saskatchewan', 'Canada/Yukon', 'Chile/Continental', 'Chile/EasterIsland', 'Cuba', 'EET', 'EST', 'EST5EDT', 'Egypt', 'Eire', 'Etc/GMT', 'Etc/GMT+0', 'Etc/GMT+1', 'Etc/GMT+10', 'Etc/GMT+11', 'Etc/GMT+12', 'Etc/GMT+2', 'Etc/GMT+3', 'Etc/GMT+4', 'Etc/GMT+5', 'Etc/GMT+6', 'Etc/GMT+7', 'Etc/GMT+8', 'Etc/GMT+9', 'Etc/GMT-0', 'Etc/GMT-1', 'Etc/GMT-10', 'Etc/GMT-11', 'Etc/GMT-12', 'Etc/GMT-13', 'Etc/GMT-14', 'Etc/GMT-2', 'Etc/GMT-3', 'Etc/GMT-4', 'Etc/GMT-5', 'Etc/GMT-6', 'Etc/GMT-7', 'Etc/GMT-8', 'Etc/GMT-9', 'Etc/GMT0', 'Etc/Greenwich', 'Etc/UCT', 'Etc/UTC', 'Etc/Universal', 'Etc/Zulu', 'Europe/Amsterdam', 'Europe/Andorra', 'Europe/Astrakhan', 'Europe/Athens', 'Europe/Belfast', 'Europe/Belgrade', 'Europe/Berlin', 'Europe/Bratislava', 'Europe/Brussels', 'Europe/Bucharest', 'Europe/Budapest', 'Europe/Busingen', 'Europe/Chisinau', 'Europe/Copenhagen', 'Europe/Dublin', 'Europe/Gibraltar', 'Europe/Guernsey', 'Europe/Helsinki', 'Europe/Isle_of_Man', 'Europe/Istanbul', 'Europe/Jersey', 'Europe/Kaliningrad', 'Europe/Kiev', 'Europe/Kirov', 'Europe/Lisbon', 'Europe/Ljubljana', 'Europe/London', 'Europe/Luxembourg', 'Europe/Madrid', 'Europe/Malta', 'Europe/Mariehamn', 'Europe/Minsk', 'Europe/Monaco', 'Europe/Moscow', 'Europe/Nicosia', 'Europe/Oslo', 'Europe/Paris', 'Europe/Podgorica', 'Europe/Prague', 'Europe/Riga', 'Europe/Rome', 'Europe/Samara', 'Europe/San_Marino', 'Europe/Sarajevo', 'Europe/Saratov', 'Europe/Simferopol', 'Europe/Skopje', 'Europe/Sofia', 'Europe/Stockholm', 'Europe/Tallinn', 'Europe/Tirane', 'Europe/Tiraspol', 'Europe/Ulyanovsk', 'Europe/Uzhgorod', 'Europe/Vaduz', 'Europe/Vatican', 'Europe/Vienna', 'Europe/Vilnius', 'Europe/Volgograd', 'Europe/Warsaw', 'Europe/Zagreb', 'Europe/Zaporozhye', 'Europe/Zurich', 'GB', 'GB-Eire', 'GMT', 'GMT+0', 'GMT-0', 'GMT0', 'Greenwich', 'HST', 'Hongkong', 'Iceland', 'Indian/Antananarivo', 'Indian/Chagos', 'Indian/Christmas', 'Indian/Cocos', 'Indian/Comoro', 'Indian/Kerguelen', 'Indian/Mahe', 'Indian/Maldives', 'Indian/Mauritius', 'Indian/Mayotte', 'Indian/Reunion', 'Iran', 'Israel', 'Jamaica', 'Japan', 'Kwajalein', 'Libya', 'MET', 'MST', 'MST7MDT', 'Mexico/BajaNorte', 'Mexico/BajaSur', 'Mexico/General', 'NZ', 'NZ-CHAT', 'Navajo', 'PRC', 'PST8PDT', 'Pacific/Apia', 'Pacific/Auckland', 'Pacific/Bougainville', 'Pacific/Chatham', 'Pacific/Chuuk', 'Pacific/Easter', 'Pacific/Efate', 'Pacific/Enderbury', 'Pacific/Fakaofo', 'Pacific/Fiji', 'Pacific/Funafuti', 'Pacific/Galapagos', 'Pacific/Gambier', 'Pacific/Guadalcanal', 'Pacific/Guam', 'Pacific/Honolulu', 'Pacific/Johnston', 'Pacific/Kanton', 'Pacific/Kiritimati', 'Pacific/Kosrae', 'Pacific/Kwajalein', 'Pacific/Majuro', 'Pacific/Marquesas', 'Pacific/Midway', 'Pacific/Nauru', 'Pacific/Niue', 'Pacific/Norfolk', 'Pacific/Noumea', 'Pacific/Pago_Pago', 'Pacific/Palau', 'Pacific/Pitcairn', 'Pacific/Pohnpei', 'Pacific/Ponape', 'Pacific/Port_Moresby', 'Pacific/Rarotonga', 'Pacific/Saipan', 'Pacific/Samoa', 'Pacific/Tahiti', 'Pacific/Tarawa', 'Pacific/Tongatapu', 'Pacific/Truk', 'Pacific/Wake', 'Pacific/Wallis', 'Pacific/Yap', 'Poland', 'Portugal', 'ROC', 'ROK', 'Singapore', 'Turkey', 'UCT', 'US/Alaska', 'US/Aleutian', 'US/Arizona', 'US/Central', 'US/East-Indiana', 'US/Eastern', 'US/Hawaii', 'US/Indiana-Starke', 'US/Michigan', 'US/Mountain', 'US/Pacific', 'US/Samoa', 'UTC', 'Universal', 'W-SU', 'WET', 'Zulu']"
      ]
     },
     "execution_count": 68,
     "metadata": {},
     "output_type": "execute_result"
    }
   ],
   "source": [
    "from pytz import all_timezones\n",
    "all_timezones"
   ]
  },
  {
   "cell_type": "code",
   "execution_count": 69,
   "metadata": {},
   "outputs": [
    {
     "data": {
      "text/html": [
       "<div>\n",
       "<style scoped>\n",
       "    .dataframe tbody tr th:only-of-type {\n",
       "        vertical-align: middle;\n",
       "    }\n",
       "\n",
       "    .dataframe tbody tr th {\n",
       "        vertical-align: top;\n",
       "    }\n",
       "\n",
       "    .dataframe thead th {\n",
       "        text-align: right;\n",
       "    }\n",
       "</style>\n",
       "<table border=\"1\" class=\"dataframe\">\n",
       "  <thead>\n",
       "    <tr style=\"text-align: right;\">\n",
       "      <th></th>\n",
       "      <th>Close/Last</th>\n",
       "      <th>Volume</th>\n",
       "      <th>Open</th>\n",
       "      <th>High</th>\n",
       "      <th>Low</th>\n",
       "    </tr>\n",
       "  </thead>\n",
       "  <tbody>\n",
       "    <tr>\n",
       "      <th>2022-07-01</th>\n",
       "      <td>168.82</td>\n",
       "      <td>81532010</td>\n",
       "      <td>165.51</td>\n",
       "      <td>169.42</td>\n",
       "      <td>164.91</td>\n",
       "    </tr>\n",
       "    <tr>\n",
       "      <th>2022-07-05</th>\n",
       "      <td>165.38</td>\n",
       "      <td>95811350</td>\n",
       "      <td>163.51</td>\n",
       "      <td>166.35</td>\n",
       "      <td>163.02</td>\n",
       "    </tr>\n",
       "    <tr>\n",
       "      <th>2022-07-06</th>\n",
       "      <td>163.98</td>\n",
       "      <td>123511700</td>\n",
       "      <td>160.51</td>\n",
       "      <td>164.48</td>\n",
       "      <td>159.76</td>\n",
       "    </tr>\n",
       "    <tr>\n",
       "      <th>2022-07-07</th>\n",
       "      <td>160.62</td>\n",
       "      <td>75615380</td>\n",
       "      <td>158.61</td>\n",
       "      <td>161.00</td>\n",
       "      <td>157.63</td>\n",
       "    </tr>\n",
       "    <tr>\n",
       "      <th>2022-07-08</th>\n",
       "      <td>159.59</td>\n",
       "      <td>102300200</td>\n",
       "      <td>157.05</td>\n",
       "      <td>160.00</td>\n",
       "      <td>154.46</td>\n",
       "    </tr>\n",
       "    <tr>\n",
       "      <th>2022-07-11</th>\n",
       "      <td>155.09</td>\n",
       "      <td>92964300</td>\n",
       "      <td>150.90</td>\n",
       "      <td>155.57</td>\n",
       "      <td>150.38</td>\n",
       "    </tr>\n",
       "    <tr>\n",
       "      <th>2022-07-12</th>\n",
       "      <td>150.62</td>\n",
       "      <td>108732100</td>\n",
       "      <td>151.45</td>\n",
       "      <td>154.12</td>\n",
       "      <td>150.10</td>\n",
       "    </tr>\n",
       "    <tr>\n",
       "      <th>2022-07-13</th>\n",
       "      <td>154.73</td>\n",
       "      <td>96970100</td>\n",
       "      <td>158.93</td>\n",
       "      <td>159.28</td>\n",
       "      <td>154.50</td>\n",
       "    </tr>\n",
       "    <tr>\n",
       "      <th>2022-07-14</th>\n",
       "      <td>158.52</td>\n",
       "      <td>105342000</td>\n",
       "      <td>160.20</td>\n",
       "      <td>160.39</td>\n",
       "      <td>155.98</td>\n",
       "    </tr>\n",
       "    <tr>\n",
       "      <th>2022-07-15</th>\n",
       "      <td>162.95</td>\n",
       "      <td>91454910</td>\n",
       "      <td>161.48</td>\n",
       "      <td>163.41</td>\n",
       "      <td>159.41</td>\n",
       "    </tr>\n",
       "    <tr>\n",
       "      <th>2022-07-18</th>\n",
       "      <td>157.44</td>\n",
       "      <td>131148300</td>\n",
       "      <td>158.82</td>\n",
       "      <td>162.88</td>\n",
       "      <td>155.80</td>\n",
       "    </tr>\n",
       "    <tr>\n",
       "      <th>2022-07-19</th>\n",
       "      <td>159.30</td>\n",
       "      <td>96418850</td>\n",
       "      <td>163.36</td>\n",
       "      <td>165.02</td>\n",
       "      <td>159.04</td>\n",
       "    </tr>\n",
       "    <tr>\n",
       "      <th>2022-07-20</th>\n",
       "      <td>163.17</td>\n",
       "      <td>83819590</td>\n",
       "      <td>164.49</td>\n",
       "      <td>165.55</td>\n",
       "      <td>162.10</td>\n",
       "    </tr>\n",
       "    <tr>\n",
       "      <th>2022-07-21</th>\n",
       "      <td>166.23</td>\n",
       "      <td>76678440</td>\n",
       "      <td>168.47</td>\n",
       "      <td>168.91</td>\n",
       "      <td>165.55</td>\n",
       "    </tr>\n",
       "    <tr>\n",
       "      <th>2022-07-22</th>\n",
       "      <td>166.56</td>\n",
       "      <td>79724750</td>\n",
       "      <td>164.39</td>\n",
       "      <td>167.36</td>\n",
       "      <td>162.95</td>\n",
       "    </tr>\n",
       "    <tr>\n",
       "      <th>2022-07-25</th>\n",
       "      <td>163.20</td>\n",
       "      <td>83474430</td>\n",
       "      <td>164.70</td>\n",
       "      <td>166.60</td>\n",
       "      <td>161.97</td>\n",
       "    </tr>\n",
       "    <tr>\n",
       "      <th>2022-07-26</th>\n",
       "      <td>165.12</td>\n",
       "      <td>95056630</td>\n",
       "      <td>163.06</td>\n",
       "      <td>165.42</td>\n",
       "      <td>162.43</td>\n",
       "    </tr>\n",
       "    <tr>\n",
       "      <th>2022-07-27</th>\n",
       "      <td>164.85</td>\n",
       "      <td>91974220</td>\n",
       "      <td>163.84</td>\n",
       "      <td>165.12</td>\n",
       "      <td>160.87</td>\n",
       "    </tr>\n",
       "    <tr>\n",
       "      <th>2022-07-28</th>\n",
       "      <td>162.74</td>\n",
       "      <td>141147500</td>\n",
       "      <td>152.58</td>\n",
       "      <td>162.85</td>\n",
       "      <td>152.00</td>\n",
       "    </tr>\n",
       "    <tr>\n",
       "      <th>2022-07-29</th>\n",
       "      <td>160.07</td>\n",
       "      <td>90009250</td>\n",
       "      <td>165.54</td>\n",
       "      <td>166.15</td>\n",
       "      <td>159.75</td>\n",
       "    </tr>\n",
       "  </tbody>\n",
       "</table>\n",
       "</div>"
      ],
      "text/plain": [
       "            Close/Last     Volume    Open    High     Low\n",
       "2022-07-01      168.82   81532010  165.51  169.42  164.91\n",
       "2022-07-05      165.38   95811350  163.51  166.35  163.02\n",
       "2022-07-06      163.98  123511700  160.51  164.48  159.76\n",
       "2022-07-07      160.62   75615380  158.61  161.00  157.63\n",
       "2022-07-08      159.59  102300200  157.05  160.00  154.46\n",
       "2022-07-11      155.09   92964300  150.90  155.57  150.38\n",
       "2022-07-12      150.62  108732100  151.45  154.12  150.10\n",
       "2022-07-13      154.73   96970100  158.93  159.28  154.50\n",
       "2022-07-14      158.52  105342000  160.20  160.39  155.98\n",
       "2022-07-15      162.95   91454910  161.48  163.41  159.41\n",
       "2022-07-18      157.44  131148300  158.82  162.88  155.80\n",
       "2022-07-19      159.30   96418850  163.36  165.02  159.04\n",
       "2022-07-20      163.17   83819590  164.49  165.55  162.10\n",
       "2022-07-21      166.23   76678440  168.47  168.91  165.55\n",
       "2022-07-22      166.56   79724750  164.39  167.36  162.95\n",
       "2022-07-25      163.20   83474430  164.70  166.60  161.97\n",
       "2022-07-26      165.12   95056630  163.06  165.42  162.43\n",
       "2022-07-27      164.85   91974220  163.84  165.12  160.87\n",
       "2022-07-28      162.74  141147500  152.58  162.85  152.00\n",
       "2022-07-29      160.07   90009250  165.54  166.15  159.75"
      ]
     },
     "execution_count": 69,
     "metadata": {},
     "output_type": "execute_result"
    }
   ],
   "source": [
    "ddf"
   ]
  },
  {
   "cell_type": "code",
   "execution_count": 70,
   "metadata": {},
   "outputs": [
    {
     "data": {
      "text/plain": [
       "DatetimeIndex(['2022-07-01', '2022-07-05', '2022-07-06', '2022-07-07',\n",
       "               '2022-07-08', '2022-07-11', '2022-07-12', '2022-07-13',\n",
       "               '2022-07-14', '2022-07-15', '2022-07-18', '2022-07-19',\n",
       "               '2022-07-20', '2022-07-21', '2022-07-22', '2022-07-25',\n",
       "               '2022-07-26', '2022-07-27', '2022-07-28', '2022-07-29'],\n",
       "              dtype='datetime64[ns]', freq='C')"
      ]
     },
     "execution_count": 70,
     "metadata": {},
     "output_type": "execute_result"
    }
   ],
   "source": [
    "ddf.index"
   ]
  },
  {
   "cell_type": "code",
   "execution_count": 71,
   "metadata": {},
   "outputs": [
    {
     "data": {
      "text/html": [
       "<div>\n",
       "<style scoped>\n",
       "    .dataframe tbody tr th:only-of-type {\n",
       "        vertical-align: middle;\n",
       "    }\n",
       "\n",
       "    .dataframe tbody tr th {\n",
       "        vertical-align: top;\n",
       "    }\n",
       "\n",
       "    .dataframe thead th {\n",
       "        text-align: right;\n",
       "    }\n",
       "</style>\n",
       "<table border=\"1\" class=\"dataframe\">\n",
       "  <thead>\n",
       "    <tr style=\"text-align: right;\">\n",
       "      <th></th>\n",
       "      <th>Close/Last</th>\n",
       "      <th>Volume</th>\n",
       "      <th>Open</th>\n",
       "      <th>High</th>\n",
       "      <th>Low</th>\n",
       "    </tr>\n",
       "  </thead>\n",
       "  <tbody>\n",
       "    <tr>\n",
       "      <th>2022-07-01 00:00:00</th>\n",
       "      <td>168.82</td>\n",
       "      <td>81532010</td>\n",
       "      <td>165.51</td>\n",
       "      <td>169.42</td>\n",
       "      <td>164.91</td>\n",
       "    </tr>\n",
       "    <tr>\n",
       "      <th>2022-07-01 01:00:00</th>\n",
       "      <td>168.82</td>\n",
       "      <td>81532010</td>\n",
       "      <td>165.51</td>\n",
       "      <td>169.42</td>\n",
       "      <td>164.91</td>\n",
       "    </tr>\n",
       "    <tr>\n",
       "      <th>2022-07-01 02:00:00</th>\n",
       "      <td>168.82</td>\n",
       "      <td>81532010</td>\n",
       "      <td>165.51</td>\n",
       "      <td>169.42</td>\n",
       "      <td>164.91</td>\n",
       "    </tr>\n",
       "    <tr>\n",
       "      <th>2022-07-01 03:00:00</th>\n",
       "      <td>168.82</td>\n",
       "      <td>81532010</td>\n",
       "      <td>165.51</td>\n",
       "      <td>169.42</td>\n",
       "      <td>164.91</td>\n",
       "    </tr>\n",
       "    <tr>\n",
       "      <th>2022-07-01 04:00:00</th>\n",
       "      <td>168.82</td>\n",
       "      <td>81532010</td>\n",
       "      <td>165.51</td>\n",
       "      <td>169.42</td>\n",
       "      <td>164.91</td>\n",
       "    </tr>\n",
       "    <tr>\n",
       "      <th>...</th>\n",
       "      <td>...</td>\n",
       "      <td>...</td>\n",
       "      <td>...</td>\n",
       "      <td>...</td>\n",
       "      <td>...</td>\n",
       "    </tr>\n",
       "    <tr>\n",
       "      <th>2022-07-28 20:00:00</th>\n",
       "      <td>162.74</td>\n",
       "      <td>141147500</td>\n",
       "      <td>152.58</td>\n",
       "      <td>162.85</td>\n",
       "      <td>152.00</td>\n",
       "    </tr>\n",
       "    <tr>\n",
       "      <th>2022-07-28 21:00:00</th>\n",
       "      <td>162.74</td>\n",
       "      <td>141147500</td>\n",
       "      <td>152.58</td>\n",
       "      <td>162.85</td>\n",
       "      <td>152.00</td>\n",
       "    </tr>\n",
       "    <tr>\n",
       "      <th>2022-07-28 22:00:00</th>\n",
       "      <td>162.74</td>\n",
       "      <td>141147500</td>\n",
       "      <td>152.58</td>\n",
       "      <td>162.85</td>\n",
       "      <td>152.00</td>\n",
       "    </tr>\n",
       "    <tr>\n",
       "      <th>2022-07-28 23:00:00</th>\n",
       "      <td>162.74</td>\n",
       "      <td>141147500</td>\n",
       "      <td>152.58</td>\n",
       "      <td>162.85</td>\n",
       "      <td>152.00</td>\n",
       "    </tr>\n",
       "    <tr>\n",
       "      <th>2022-07-29 00:00:00</th>\n",
       "      <td>160.07</td>\n",
       "      <td>90009250</td>\n",
       "      <td>165.54</td>\n",
       "      <td>166.15</td>\n",
       "      <td>159.75</td>\n",
       "    </tr>\n",
       "  </tbody>\n",
       "</table>\n",
       "<p>673 rows × 5 columns</p>\n",
       "</div>"
      ],
      "text/plain": [
       "                     Close/Last     Volume    Open    High     Low\n",
       "2022-07-01 00:00:00      168.82   81532010  165.51  169.42  164.91\n",
       "2022-07-01 01:00:00      168.82   81532010  165.51  169.42  164.91\n",
       "2022-07-01 02:00:00      168.82   81532010  165.51  169.42  164.91\n",
       "2022-07-01 03:00:00      168.82   81532010  165.51  169.42  164.91\n",
       "2022-07-01 04:00:00      168.82   81532010  165.51  169.42  164.91\n",
       "...                         ...        ...     ...     ...     ...\n",
       "2022-07-28 20:00:00      162.74  141147500  152.58  162.85  152.00\n",
       "2022-07-28 21:00:00      162.74  141147500  152.58  162.85  152.00\n",
       "2022-07-28 22:00:00      162.74  141147500  152.58  162.85  152.00\n",
       "2022-07-28 23:00:00      162.74  141147500  152.58  162.85  152.00\n",
       "2022-07-29 00:00:00      160.07   90009250  165.54  166.15  159.75\n",
       "\n",
       "[673 rows x 5 columns]"
      ]
     },
     "execution_count": 71,
     "metadata": {},
     "output_type": "execute_result"
    }
   ],
   "source": [
    "ddf.asfreq(freq='H',method= 'pad')"
   ]
  },
  {
   "cell_type": "code",
   "execution_count": 72,
   "metadata": {},
   "outputs": [
    {
     "data": {
      "text/plain": [
       "DatetimeIndex(['2022-07-01 00:00:00+01:00', '2022-07-05 00:00:00+01:00',\n",
       "               '2022-07-06 00:00:00+01:00', '2022-07-07 00:00:00+01:00',\n",
       "               '2022-07-08 00:00:00+01:00', '2022-07-11 00:00:00+01:00',\n",
       "               '2022-07-12 00:00:00+01:00', '2022-07-13 00:00:00+01:00',\n",
       "               '2022-07-14 00:00:00+01:00', '2022-07-15 00:00:00+01:00',\n",
       "               '2022-07-18 00:00:00+01:00', '2022-07-19 00:00:00+01:00',\n",
       "               '2022-07-20 00:00:00+01:00', '2022-07-21 00:00:00+01:00',\n",
       "               '2022-07-22 00:00:00+01:00', '2022-07-25 00:00:00+01:00',\n",
       "               '2022-07-26 00:00:00+01:00', '2022-07-27 00:00:00+01:00',\n",
       "               '2022-07-28 00:00:00+01:00', '2022-07-29 00:00:00+01:00'],\n",
       "              dtype='datetime64[ns, Africa/Lagos]', freq=None)"
      ]
     },
     "execution_count": 72,
     "metadata": {},
     "output_type": "execute_result"
    }
   ],
   "source": [
    "ddf=ddf.tz_localize(tz='Africa/Lagos')\n",
    "ddf.index"
   ]
  },
  {
   "cell_type": "code",
   "execution_count": 73,
   "metadata": {},
   "outputs": [
    {
     "data": {
      "text/html": [
       "<div>\n",
       "<style scoped>\n",
       "    .dataframe tbody tr th:only-of-type {\n",
       "        vertical-align: middle;\n",
       "    }\n",
       "\n",
       "    .dataframe tbody tr th {\n",
       "        vertical-align: top;\n",
       "    }\n",
       "\n",
       "    .dataframe thead th {\n",
       "        text-align: right;\n",
       "    }\n",
       "</style>\n",
       "<table border=\"1\" class=\"dataframe\">\n",
       "  <thead>\n",
       "    <tr style=\"text-align: right;\">\n",
       "      <th></th>\n",
       "      <th>Close/Last</th>\n",
       "      <th>Volume</th>\n",
       "      <th>Open</th>\n",
       "      <th>High</th>\n",
       "      <th>Low</th>\n",
       "    </tr>\n",
       "  </thead>\n",
       "  <tbody>\n",
       "    <tr>\n",
       "      <th>2022-07-01 01:00:00+02:00</th>\n",
       "      <td>168.82</td>\n",
       "      <td>81532010</td>\n",
       "      <td>165.51</td>\n",
       "      <td>169.42</td>\n",
       "      <td>164.91</td>\n",
       "    </tr>\n",
       "    <tr>\n",
       "      <th>2022-07-05 01:00:00+02:00</th>\n",
       "      <td>165.38</td>\n",
       "      <td>95811350</td>\n",
       "      <td>163.51</td>\n",
       "      <td>166.35</td>\n",
       "      <td>163.02</td>\n",
       "    </tr>\n",
       "    <tr>\n",
       "      <th>2022-07-06 01:00:00+02:00</th>\n",
       "      <td>163.98</td>\n",
       "      <td>123511700</td>\n",
       "      <td>160.51</td>\n",
       "      <td>164.48</td>\n",
       "      <td>159.76</td>\n",
       "    </tr>\n",
       "    <tr>\n",
       "      <th>2022-07-07 01:00:00+02:00</th>\n",
       "      <td>160.62</td>\n",
       "      <td>75615380</td>\n",
       "      <td>158.61</td>\n",
       "      <td>161.00</td>\n",
       "      <td>157.63</td>\n",
       "    </tr>\n",
       "    <tr>\n",
       "      <th>2022-07-08 01:00:00+02:00</th>\n",
       "      <td>159.59</td>\n",
       "      <td>102300200</td>\n",
       "      <td>157.05</td>\n",
       "      <td>160.00</td>\n",
       "      <td>154.46</td>\n",
       "    </tr>\n",
       "    <tr>\n",
       "      <th>2022-07-11 01:00:00+02:00</th>\n",
       "      <td>155.09</td>\n",
       "      <td>92964300</td>\n",
       "      <td>150.90</td>\n",
       "      <td>155.57</td>\n",
       "      <td>150.38</td>\n",
       "    </tr>\n",
       "    <tr>\n",
       "      <th>2022-07-12 01:00:00+02:00</th>\n",
       "      <td>150.62</td>\n",
       "      <td>108732100</td>\n",
       "      <td>151.45</td>\n",
       "      <td>154.12</td>\n",
       "      <td>150.10</td>\n",
       "    </tr>\n",
       "    <tr>\n",
       "      <th>2022-07-13 01:00:00+02:00</th>\n",
       "      <td>154.73</td>\n",
       "      <td>96970100</td>\n",
       "      <td>158.93</td>\n",
       "      <td>159.28</td>\n",
       "      <td>154.50</td>\n",
       "    </tr>\n",
       "    <tr>\n",
       "      <th>2022-07-14 01:00:00+02:00</th>\n",
       "      <td>158.52</td>\n",
       "      <td>105342000</td>\n",
       "      <td>160.20</td>\n",
       "      <td>160.39</td>\n",
       "      <td>155.98</td>\n",
       "    </tr>\n",
       "    <tr>\n",
       "      <th>2022-07-15 01:00:00+02:00</th>\n",
       "      <td>162.95</td>\n",
       "      <td>91454910</td>\n",
       "      <td>161.48</td>\n",
       "      <td>163.41</td>\n",
       "      <td>159.41</td>\n",
       "    </tr>\n",
       "    <tr>\n",
       "      <th>2022-07-18 01:00:00+02:00</th>\n",
       "      <td>157.44</td>\n",
       "      <td>131148300</td>\n",
       "      <td>158.82</td>\n",
       "      <td>162.88</td>\n",
       "      <td>155.80</td>\n",
       "    </tr>\n",
       "    <tr>\n",
       "      <th>2022-07-19 01:00:00+02:00</th>\n",
       "      <td>159.30</td>\n",
       "      <td>96418850</td>\n",
       "      <td>163.36</td>\n",
       "      <td>165.02</td>\n",
       "      <td>159.04</td>\n",
       "    </tr>\n",
       "    <tr>\n",
       "      <th>2022-07-20 01:00:00+02:00</th>\n",
       "      <td>163.17</td>\n",
       "      <td>83819590</td>\n",
       "      <td>164.49</td>\n",
       "      <td>165.55</td>\n",
       "      <td>162.10</td>\n",
       "    </tr>\n",
       "    <tr>\n",
       "      <th>2022-07-21 01:00:00+02:00</th>\n",
       "      <td>166.23</td>\n",
       "      <td>76678440</td>\n",
       "      <td>168.47</td>\n",
       "      <td>168.91</td>\n",
       "      <td>165.55</td>\n",
       "    </tr>\n",
       "    <tr>\n",
       "      <th>2022-07-22 01:00:00+02:00</th>\n",
       "      <td>166.56</td>\n",
       "      <td>79724750</td>\n",
       "      <td>164.39</td>\n",
       "      <td>167.36</td>\n",
       "      <td>162.95</td>\n",
       "    </tr>\n",
       "    <tr>\n",
       "      <th>2022-07-25 01:00:00+02:00</th>\n",
       "      <td>163.20</td>\n",
       "      <td>83474430</td>\n",
       "      <td>164.70</td>\n",
       "      <td>166.60</td>\n",
       "      <td>161.97</td>\n",
       "    </tr>\n",
       "    <tr>\n",
       "      <th>2022-07-26 01:00:00+02:00</th>\n",
       "      <td>165.12</td>\n",
       "      <td>95056630</td>\n",
       "      <td>163.06</td>\n",
       "      <td>165.42</td>\n",
       "      <td>162.43</td>\n",
       "    </tr>\n",
       "    <tr>\n",
       "      <th>2022-07-27 01:00:00+02:00</th>\n",
       "      <td>164.85</td>\n",
       "      <td>91974220</td>\n",
       "      <td>163.84</td>\n",
       "      <td>165.12</td>\n",
       "      <td>160.87</td>\n",
       "    </tr>\n",
       "    <tr>\n",
       "      <th>2022-07-28 01:00:00+02:00</th>\n",
       "      <td>162.74</td>\n",
       "      <td>141147500</td>\n",
       "      <td>152.58</td>\n",
       "      <td>162.85</td>\n",
       "      <td>152.00</td>\n",
       "    </tr>\n",
       "    <tr>\n",
       "      <th>2022-07-29 01:00:00+02:00</th>\n",
       "      <td>160.07</td>\n",
       "      <td>90009250</td>\n",
       "      <td>165.54</td>\n",
       "      <td>166.15</td>\n",
       "      <td>159.75</td>\n",
       "    </tr>\n",
       "  </tbody>\n",
       "</table>\n",
       "</div>"
      ],
      "text/plain": [
       "                           Close/Last     Volume    Open    High     Low\n",
       "2022-07-01 01:00:00+02:00      168.82   81532010  165.51  169.42  164.91\n",
       "2022-07-05 01:00:00+02:00      165.38   95811350  163.51  166.35  163.02\n",
       "2022-07-06 01:00:00+02:00      163.98  123511700  160.51  164.48  159.76\n",
       "2022-07-07 01:00:00+02:00      160.62   75615380  158.61  161.00  157.63\n",
       "2022-07-08 01:00:00+02:00      159.59  102300200  157.05  160.00  154.46\n",
       "2022-07-11 01:00:00+02:00      155.09   92964300  150.90  155.57  150.38\n",
       "2022-07-12 01:00:00+02:00      150.62  108732100  151.45  154.12  150.10\n",
       "2022-07-13 01:00:00+02:00      154.73   96970100  158.93  159.28  154.50\n",
       "2022-07-14 01:00:00+02:00      158.52  105342000  160.20  160.39  155.98\n",
       "2022-07-15 01:00:00+02:00      162.95   91454910  161.48  163.41  159.41\n",
       "2022-07-18 01:00:00+02:00      157.44  131148300  158.82  162.88  155.80\n",
       "2022-07-19 01:00:00+02:00      159.30   96418850  163.36  165.02  159.04\n",
       "2022-07-20 01:00:00+02:00      163.17   83819590  164.49  165.55  162.10\n",
       "2022-07-21 01:00:00+02:00      166.23   76678440  168.47  168.91  165.55\n",
       "2022-07-22 01:00:00+02:00      166.56   79724750  164.39  167.36  162.95\n",
       "2022-07-25 01:00:00+02:00      163.20   83474430  164.70  166.60  161.97\n",
       "2022-07-26 01:00:00+02:00      165.12   95056630  163.06  165.42  162.43\n",
       "2022-07-27 01:00:00+02:00      164.85   91974220  163.84  165.12  160.87\n",
       "2022-07-28 01:00:00+02:00      162.74  141147500  152.58  162.85  152.00\n",
       "2022-07-29 01:00:00+02:00      160.07   90009250  165.54  166.15  159.75"
      ]
     },
     "execution_count": 73,
     "metadata": {},
     "output_type": "execute_result"
    }
   ],
   "source": [
    "ddf.tz_convert(tz='Africa/Khartoum')"
   ]
  },
  {
   "cell_type": "markdown",
   "metadata": {},
   "source": [
    "## shiffting and lagging"
   ]
  },
  {
   "cell_type": "code",
   "execution_count": 74,
   "metadata": {},
   "outputs": [
    {
     "data": {
      "text/html": [
       "<div>\n",
       "<style scoped>\n",
       "    .dataframe tbody tr th:only-of-type {\n",
       "        vertical-align: middle;\n",
       "    }\n",
       "\n",
       "    .dataframe tbody tr th {\n",
       "        vertical-align: top;\n",
       "    }\n",
       "\n",
       "    .dataframe thead th {\n",
       "        text-align: right;\n",
       "    }\n",
       "</style>\n",
       "<table border=\"1\" class=\"dataframe\">\n",
       "  <thead>\n",
       "    <tr style=\"text-align: right;\">\n",
       "      <th></th>\n",
       "      <th>Close/Last</th>\n",
       "      <th>Volume</th>\n",
       "      <th>Open</th>\n",
       "      <th>High</th>\n",
       "      <th>Low</th>\n",
       "    </tr>\n",
       "  </thead>\n",
       "  <tbody>\n",
       "    <tr>\n",
       "      <th>2022-07-01 00:00:00+01:00</th>\n",
       "      <td>168.82</td>\n",
       "      <td>81532010</td>\n",
       "      <td>165.51</td>\n",
       "      <td>169.42</td>\n",
       "      <td>164.91</td>\n",
       "    </tr>\n",
       "    <tr>\n",
       "      <th>2022-07-05 00:00:00+01:00</th>\n",
       "      <td>165.38</td>\n",
       "      <td>95811350</td>\n",
       "      <td>163.51</td>\n",
       "      <td>166.35</td>\n",
       "      <td>163.02</td>\n",
       "    </tr>\n",
       "    <tr>\n",
       "      <th>2022-07-06 00:00:00+01:00</th>\n",
       "      <td>163.98</td>\n",
       "      <td>123511700</td>\n",
       "      <td>160.51</td>\n",
       "      <td>164.48</td>\n",
       "      <td>159.76</td>\n",
       "    </tr>\n",
       "    <tr>\n",
       "      <th>2022-07-07 00:00:00+01:00</th>\n",
       "      <td>160.62</td>\n",
       "      <td>75615380</td>\n",
       "      <td>158.61</td>\n",
       "      <td>161.00</td>\n",
       "      <td>157.63</td>\n",
       "    </tr>\n",
       "    <tr>\n",
       "      <th>2022-07-08 00:00:00+01:00</th>\n",
       "      <td>159.59</td>\n",
       "      <td>102300200</td>\n",
       "      <td>157.05</td>\n",
       "      <td>160.00</td>\n",
       "      <td>154.46</td>\n",
       "    </tr>\n",
       "    <tr>\n",
       "      <th>2022-07-11 00:00:00+01:00</th>\n",
       "      <td>155.09</td>\n",
       "      <td>92964300</td>\n",
       "      <td>150.90</td>\n",
       "      <td>155.57</td>\n",
       "      <td>150.38</td>\n",
       "    </tr>\n",
       "    <tr>\n",
       "      <th>2022-07-12 00:00:00+01:00</th>\n",
       "      <td>150.62</td>\n",
       "      <td>108732100</td>\n",
       "      <td>151.45</td>\n",
       "      <td>154.12</td>\n",
       "      <td>150.10</td>\n",
       "    </tr>\n",
       "    <tr>\n",
       "      <th>2022-07-13 00:00:00+01:00</th>\n",
       "      <td>154.73</td>\n",
       "      <td>96970100</td>\n",
       "      <td>158.93</td>\n",
       "      <td>159.28</td>\n",
       "      <td>154.50</td>\n",
       "    </tr>\n",
       "    <tr>\n",
       "      <th>2022-07-14 00:00:00+01:00</th>\n",
       "      <td>158.52</td>\n",
       "      <td>105342000</td>\n",
       "      <td>160.20</td>\n",
       "      <td>160.39</td>\n",
       "      <td>155.98</td>\n",
       "    </tr>\n",
       "    <tr>\n",
       "      <th>2022-07-15 00:00:00+01:00</th>\n",
       "      <td>162.95</td>\n",
       "      <td>91454910</td>\n",
       "      <td>161.48</td>\n",
       "      <td>163.41</td>\n",
       "      <td>159.41</td>\n",
       "    </tr>\n",
       "    <tr>\n",
       "      <th>2022-07-18 00:00:00+01:00</th>\n",
       "      <td>157.44</td>\n",
       "      <td>131148300</td>\n",
       "      <td>158.82</td>\n",
       "      <td>162.88</td>\n",
       "      <td>155.80</td>\n",
       "    </tr>\n",
       "    <tr>\n",
       "      <th>2022-07-19 00:00:00+01:00</th>\n",
       "      <td>159.30</td>\n",
       "      <td>96418850</td>\n",
       "      <td>163.36</td>\n",
       "      <td>165.02</td>\n",
       "      <td>159.04</td>\n",
       "    </tr>\n",
       "    <tr>\n",
       "      <th>2022-07-20 00:00:00+01:00</th>\n",
       "      <td>163.17</td>\n",
       "      <td>83819590</td>\n",
       "      <td>164.49</td>\n",
       "      <td>165.55</td>\n",
       "      <td>162.10</td>\n",
       "    </tr>\n",
       "    <tr>\n",
       "      <th>2022-07-21 00:00:00+01:00</th>\n",
       "      <td>166.23</td>\n",
       "      <td>76678440</td>\n",
       "      <td>168.47</td>\n",
       "      <td>168.91</td>\n",
       "      <td>165.55</td>\n",
       "    </tr>\n",
       "    <tr>\n",
       "      <th>2022-07-22 00:00:00+01:00</th>\n",
       "      <td>166.56</td>\n",
       "      <td>79724750</td>\n",
       "      <td>164.39</td>\n",
       "      <td>167.36</td>\n",
       "      <td>162.95</td>\n",
       "    </tr>\n",
       "    <tr>\n",
       "      <th>2022-07-25 00:00:00+01:00</th>\n",
       "      <td>163.20</td>\n",
       "      <td>83474430</td>\n",
       "      <td>164.70</td>\n",
       "      <td>166.60</td>\n",
       "      <td>161.97</td>\n",
       "    </tr>\n",
       "    <tr>\n",
       "      <th>2022-07-26 00:00:00+01:00</th>\n",
       "      <td>165.12</td>\n",
       "      <td>95056630</td>\n",
       "      <td>163.06</td>\n",
       "      <td>165.42</td>\n",
       "      <td>162.43</td>\n",
       "    </tr>\n",
       "    <tr>\n",
       "      <th>2022-07-27 00:00:00+01:00</th>\n",
       "      <td>164.85</td>\n",
       "      <td>91974220</td>\n",
       "      <td>163.84</td>\n",
       "      <td>165.12</td>\n",
       "      <td>160.87</td>\n",
       "    </tr>\n",
       "    <tr>\n",
       "      <th>2022-07-28 00:00:00+01:00</th>\n",
       "      <td>162.74</td>\n",
       "      <td>141147500</td>\n",
       "      <td>152.58</td>\n",
       "      <td>162.85</td>\n",
       "      <td>152.00</td>\n",
       "    </tr>\n",
       "    <tr>\n",
       "      <th>2022-07-29 00:00:00+01:00</th>\n",
       "      <td>160.07</td>\n",
       "      <td>90009250</td>\n",
       "      <td>165.54</td>\n",
       "      <td>166.15</td>\n",
       "      <td>159.75</td>\n",
       "    </tr>\n",
       "  </tbody>\n",
       "</table>\n",
       "</div>"
      ],
      "text/plain": [
       "                           Close/Last     Volume    Open    High     Low\n",
       "2022-07-01 00:00:00+01:00      168.82   81532010  165.51  169.42  164.91\n",
       "2022-07-05 00:00:00+01:00      165.38   95811350  163.51  166.35  163.02\n",
       "2022-07-06 00:00:00+01:00      163.98  123511700  160.51  164.48  159.76\n",
       "2022-07-07 00:00:00+01:00      160.62   75615380  158.61  161.00  157.63\n",
       "2022-07-08 00:00:00+01:00      159.59  102300200  157.05  160.00  154.46\n",
       "2022-07-11 00:00:00+01:00      155.09   92964300  150.90  155.57  150.38\n",
       "2022-07-12 00:00:00+01:00      150.62  108732100  151.45  154.12  150.10\n",
       "2022-07-13 00:00:00+01:00      154.73   96970100  158.93  159.28  154.50\n",
       "2022-07-14 00:00:00+01:00      158.52  105342000  160.20  160.39  155.98\n",
       "2022-07-15 00:00:00+01:00      162.95   91454910  161.48  163.41  159.41\n",
       "2022-07-18 00:00:00+01:00      157.44  131148300  158.82  162.88  155.80\n",
       "2022-07-19 00:00:00+01:00      159.30   96418850  163.36  165.02  159.04\n",
       "2022-07-20 00:00:00+01:00      163.17   83819590  164.49  165.55  162.10\n",
       "2022-07-21 00:00:00+01:00      166.23   76678440  168.47  168.91  165.55\n",
       "2022-07-22 00:00:00+01:00      166.56   79724750  164.39  167.36  162.95\n",
       "2022-07-25 00:00:00+01:00      163.20   83474430  164.70  166.60  161.97\n",
       "2022-07-26 00:00:00+01:00      165.12   95056630  163.06  165.42  162.43\n",
       "2022-07-27 00:00:00+01:00      164.85   91974220  163.84  165.12  160.87\n",
       "2022-07-28 00:00:00+01:00      162.74  141147500  152.58  162.85  152.00\n",
       "2022-07-29 00:00:00+01:00      160.07   90009250  165.54  166.15  159.75"
      ]
     },
     "execution_count": 74,
     "metadata": {},
     "output_type": "execute_result"
    }
   ],
   "source": [
    "ddf"
   ]
  },
  {
   "cell_type": "code",
   "execution_count": 75,
   "metadata": {},
   "outputs": [
    {
     "data": {
      "text/plain": [
       "DatetimeIndex(['2022-07-01 00:00:00+01:00', '2022-07-05 00:00:00+01:00',\n",
       "               '2022-07-06 00:00:00+01:00', '2022-07-07 00:00:00+01:00',\n",
       "               '2022-07-08 00:00:00+01:00', '2022-07-11 00:00:00+01:00',\n",
       "               '2022-07-12 00:00:00+01:00', '2022-07-13 00:00:00+01:00',\n",
       "               '2022-07-14 00:00:00+01:00', '2022-07-15 00:00:00+01:00',\n",
       "               '2022-07-18 00:00:00+01:00', '2022-07-19 00:00:00+01:00',\n",
       "               '2022-07-20 00:00:00+01:00', '2022-07-21 00:00:00+01:00',\n",
       "               '2022-07-22 00:00:00+01:00', '2022-07-25 00:00:00+01:00',\n",
       "               '2022-07-26 00:00:00+01:00', '2022-07-27 00:00:00+01:00',\n",
       "               '2022-07-28 00:00:00+01:00', '2022-07-29 00:00:00+01:00'],\n",
       "              dtype='datetime64[ns, Africa/Lagos]', freq=None)"
      ]
     },
     "execution_count": 75,
     "metadata": {},
     "output_type": "execute_result"
    }
   ],
   "source": [
    "ddf.index"
   ]
  },
  {
   "cell_type": "code",
   "execution_count": null,
   "metadata": {},
   "outputs": [],
   "source": []
  }
 ],
 "metadata": {
  "kernelspec": {
   "display_name": "Python 3",
   "language": "python",
   "name": "python3"
  },
  "language_info": {
   "codemirror_mode": {
    "name": "ipython",
    "version": 3
   },
   "file_extension": ".py",
   "mimetype": "text/x-python",
   "name": "python",
   "nbconvert_exporter": "python",
   "pygments_lexer": "ipython3",
   "version": "3.8.5"
  }
 },
 "nbformat": 4,
 "nbformat_minor": 4
}
